{
 "cells": [
  {
   "cell_type": "code",
   "execution_count": 1,
   "metadata": {},
   "outputs": [],
   "source": [
    "import altair as A\n",
    "import pandas as pd\n",
    "import matplotlib.pyplot as plt\n",
    "import numpy as np\n",
    "import numpy.random as nr\n",
    "import scipy.stats as st\n",
    "\n",
    "from numba import njit\n",
    "import itertools as it"
   ]
  },
  {
   "cell_type": "markdown",
   "metadata": {},
   "source": [
    "# Build dataset"
   ]
  },
  {
   "cell_type": "code",
   "execution_count": 2,
   "metadata": {},
   "outputs": [
    {
     "data": {
      "text/plain": [
       "[<matplotlib.lines.Line2D at 0x7fd217aeb290>]"
      ]
     },
     "execution_count": 2,
     "metadata": {},
     "output_type": "execute_result"
    },
    {
     "data": {
      "image/png": "[encoded data removed]",
      "text/plain": [
       "<Figure size 432x288 with 1 Axes>"
      ]
     },
     "metadata": {
      "needs_background": "light"
     },
     "output_type": "display_data"
    }
   ],
   "source": [
    "xs = np.linspace(0, 10, 100)\n",
    "ys = st.gamma(4).pdf(xs)\n",
    "\n",
    "plt.plot(xs, ys)"
   ]
  },
  {
   "cell_type": "code",
   "execution_count": 23,
   "metadata": {},
   "outputs": [],
   "source": [
    "@njit\n",
    "def gen_pre_post(win7, win7_fact, treat_fact, treat_std=.25, log=True):\n",
    "    pre = nr.gamma(4 + win7_fact * win7)\n",
    "    post = pre + nr.randn() * treat_std + treat_fact\n",
    "    if log:\n",
    "        return np.log(pre), np.log(post)\n",
    "    return pre, post"
   ]
  },
  {
   "cell_type": "code",
   "execution_count": 17,
   "metadata": {},
   "outputs": [
    {
     "data": {
      "text/plain": [
       "(1.9288982688130367, 4.761386974922098)"
      ]
     },
     "execution_count": 17,
     "metadata": {},
     "output_type": "execute_result"
    }
   ],
   "source": []
  },
  {
   "cell_type": "code",
   "execution_count": 20,
   "metadata": {},
   "outputs": [],
   "source": [
    "n_each = 5\n",
    "\n",
    "def gen_times(win7):\n",
    "    times = st.gamma(4 + win7_factor * win7).rvs(len(gdf))\n",
    "    return times\n",
    "\n",
    "def gen_times_shape(gshape):\n",
    "    times = st.gamma(gshape).rvs(len(gdf))\n",
    "    return times\n",
    "\n",
    "data_dct = [{'win7': win7} for win7 in (0, 1) for _ in range(n_each)]\n",
    "df_ = pd.DataFrame(data_dct)"
   ]
  },
  {
   "cell_type": "markdown",
   "metadata": {},
   "source": [
    "### With Numba"
   ]
  },
  {
   "cell_type": "code",
   "execution_count": 22,
   "metadata": {},
   "outputs": [
    {
     "data": {
      "text/html": [
       "<div>\n",
       "<style scoped>\n",
       "    .dataframe tbody tr th:only-of-type {\n",
       "        vertical-align: middle;\n",
       "    }\n",
       "\n",
       "    .dataframe tbody tr th {\n",
       "        vertical-align: top;\n",
       "    }\n",
       "\n",
       "    .dataframe thead th {\n",
       "        text-align: right;\n",
       "    }\n",
       "</style>\n",
       "<table border=\"1\" class=\"dataframe\">\n",
       "  <thead>\n",
       "    <tr style=\"text-align: right;\">\n",
       "      <th></th>\n",
       "      <th>win7</th>\n",
       "    </tr>\n",
       "  </thead>\n",
       "  <tbody>\n",
       "    <tr>\n",
       "      <th>0</th>\n",
       "      <td>0</td>\n",
       "    </tr>\n",
       "    <tr>\n",
       "      <th>1</th>\n",
       "      <td>0</td>\n",
       "    </tr>\n",
       "    <tr>\n",
       "      <th>2</th>\n",
       "      <td>0</td>\n",
       "    </tr>\n",
       "    <tr>\n",
       "      <th>3</th>\n",
       "      <td>0</td>\n",
       "    </tr>\n",
       "    <tr>\n",
       "      <th>4</th>\n",
       "      <td>0</td>\n",
       "    </tr>\n",
       "    <tr>\n",
       "      <th>5</th>\n",
       "      <td>1</td>\n",
       "    </tr>\n",
       "    <tr>\n",
       "      <th>6</th>\n",
       "      <td>1</td>\n",
       "    </tr>\n",
       "    <tr>\n",
       "      <th>7</th>\n",
       "      <td>1</td>\n",
       "    </tr>\n",
       "    <tr>\n",
       "      <th>8</th>\n",
       "      <td>1</td>\n",
       "    </tr>\n",
       "    <tr>\n",
       "      <th>9</th>\n",
       "      <td>1</td>\n",
       "    </tr>\n",
       "  </tbody>\n",
       "</table>\n",
       "</div>"
      ],
      "text/plain": [
       "   win7\n",
       "0     0\n",
       "1     0\n",
       "2     0\n",
       "3     0\n",
       "4     0\n",
       "5     1\n",
       "6     1\n",
       "7     1\n",
       "8     1\n",
       "9     1"
      ]
     },
     "execution_count": 22,
     "metadata": {},
     "output_type": "execute_result"
    }
   ],
   "source": [
    "WIN7_FACT = 1.2\n",
    "TREAT_FACT = .6\n",
    "\n",
    "df_"
   ]
  },
  {
   "cell_type": "code",
   "execution_count": 27,
   "metadata": {},
   "outputs": [],
   "source": []
  },
  {
   "cell_type": "code",
   "execution_count": null,
   "metadata": {},
   "outputs": [],
   "source": [
    "gen_pre_post()"
   ]
  },
  {
   "cell_type": "code",
   "execution_count": 33,
   "metadata": {},
   "outputs": [
    {
     "data": {
      "text/html": [
       "<div>\n",
       "<style scoped>\n",
       "    .dataframe tbody tr th:only-of-type {\n",
       "        vertical-align: middle;\n",
       "    }\n",
       "\n",
       "    .dataframe tbody tr th {\n",
       "        vertical-align: top;\n",
       "    }\n",
       "\n",
       "    .dataframe thead th {\n",
       "        text-align: right;\n",
       "    }\n",
       "</style>\n",
       "<table border=\"1\" class=\"dataframe\">\n",
       "  <thead>\n",
       "    <tr style=\"text-align: right;\">\n",
       "      <th></th>\n",
       "      <th>win7</th>\n",
       "      <th>pre</th>\n",
       "      <th>post</th>\n",
       "    </tr>\n",
       "  </thead>\n",
       "  <tbody>\n",
       "    <tr>\n",
       "      <th>0</th>\n",
       "      <td>0</td>\n",
       "      <td>1.129883</td>\n",
       "      <td>1.366788</td>\n",
       "    </tr>\n",
       "    <tr>\n",
       "      <th>1</th>\n",
       "      <td>0</td>\n",
       "      <td>1.088595</td>\n",
       "      <td>1.287265</td>\n",
       "    </tr>\n",
       "    <tr>\n",
       "      <th>2</th>\n",
       "      <td>0</td>\n",
       "      <td>0.572989</td>\n",
       "      <td>0.793196</td>\n",
       "    </tr>\n",
       "    <tr>\n",
       "      <th>3</th>\n",
       "      <td>0</td>\n",
       "      <td>0.852735</td>\n",
       "      <td>1.292849</td>\n",
       "    </tr>\n",
       "    <tr>\n",
       "      <th>4</th>\n",
       "      <td>0</td>\n",
       "      <td>1.381514</td>\n",
       "      <td>1.501327</td>\n",
       "    </tr>\n",
       "    <tr>\n",
       "      <th>5</th>\n",
       "      <td>1</td>\n",
       "      <td>1.903713</td>\n",
       "      <td>1.932637</td>\n",
       "    </tr>\n",
       "    <tr>\n",
       "      <th>6</th>\n",
       "      <td>1</td>\n",
       "      <td>1.248023</td>\n",
       "      <td>1.469482</td>\n",
       "    </tr>\n",
       "    <tr>\n",
       "      <th>7</th>\n",
       "      <td>1</td>\n",
       "      <td>1.893699</td>\n",
       "      <td>1.995075</td>\n",
       "    </tr>\n",
       "    <tr>\n",
       "      <th>8</th>\n",
       "      <td>1</td>\n",
       "      <td>1.366891</td>\n",
       "      <td>1.474909</td>\n",
       "    </tr>\n",
       "    <tr>\n",
       "      <th>9</th>\n",
       "      <td>1</td>\n",
       "      <td>1.352144</td>\n",
       "      <td>1.561056</td>\n",
       "    </tr>\n",
       "  </tbody>\n",
       "</table>\n",
       "</div>"
      ],
      "text/plain": [
       "   win7       pre      post\n",
       "0     0  1.129883  1.366788\n",
       "1     0  1.088595  1.287265\n",
       "2     0  0.572989  0.793196\n",
       "3     0  0.852735  1.292849\n",
       "4     0  1.381514  1.501327\n",
       "5     1  1.903713  1.932637\n",
       "6     1  1.248023  1.469482\n",
       "7     1  1.893699  1.995075\n",
       "8     1  1.366891  1.474909\n",
       "9     1  1.352144  1.561056"
      ]
     },
     "execution_count": 33,
     "metadata": {},
     "output_type": "execute_result"
    }
   ],
   "source": [
    "\n",
    "    \n",
    "def add_columns(df):\n",
    "    pre_post = pd.DataFrame([gen_pre_post(win7, \n",
    "             win7_fact=WIN7_FACT,\n",
    "              treat_fact=TREAT_FACT,\n",
    "             ) for win7 in df_.win7], columns=['pre', 'post'])\n",
    "    df = pd.concat([df, pre_post], ignore_index=False, axis=1)\n",
    "    return df\n",
    "\n",
    "\n",
    "df = df_.pipe(add_columns)\n",
    "df.drop_duplicates()"
   ]
  },
  {
   "cell_type": "code",
   "execution_count": 49,
   "metadata": {},
   "outputs": [
    {
     "data": {
      "text/html": [
       "<div>\n",
       "<style scoped>\n",
       "    .dataframe tbody tr th:only-of-type {\n",
       "        vertical-align: middle;\n",
       "    }\n",
       "\n",
       "    .dataframe tbody tr th {\n",
       "        vertical-align: top;\n",
       "    }\n",
       "\n",
       "    .dataframe thead th {\n",
       "        text-align: right;\n",
       "    }\n",
       "</style>\n",
       "<table border=\"1\" class=\"dataframe\">\n",
       "  <thead>\n",
       "    <tr style=\"text-align: right;\">\n",
       "      <th></th>\n",
       "      <th>win7</th>\n",
       "      <th>gshape</th>\n",
       "      <th>pre</th>\n",
       "      <th>treat</th>\n",
       "    </tr>\n",
       "  </thead>\n",
       "  <tbody>\n",
       "    <tr>\n",
       "      <th>0</th>\n",
       "      <td>0</td>\n",
       "      <td>4.0</td>\n",
       "      <td>3.215509</td>\n",
       "      <td>4.230110</td>\n",
       "    </tr>\n",
       "    <tr>\n",
       "      <th>1</th>\n",
       "      <td>0</td>\n",
       "      <td>4.0</td>\n",
       "      <td>5.825667</td>\n",
       "      <td>6.900656</td>\n",
       "    </tr>\n",
       "    <tr>\n",
       "      <th>2</th>\n",
       "      <td>0</td>\n",
       "      <td>4.0</td>\n",
       "      <td>1.547900</td>\n",
       "      <td>2.590860</td>\n",
       "    </tr>\n",
       "    <tr>\n",
       "      <th>3</th>\n",
       "      <td>0</td>\n",
       "      <td>4.0</td>\n",
       "      <td>4.355997</td>\n",
       "      <td>5.628185</td>\n",
       "    </tr>\n",
       "    <tr>\n",
       "      <th>4</th>\n",
       "      <td>0</td>\n",
       "      <td>4.0</td>\n",
       "      <td>3.691639</td>\n",
       "      <td>4.939300</td>\n",
       "    </tr>\n",
       "    <tr>\n",
       "      <th>...</th>\n",
       "      <td>...</td>\n",
       "      <td>...</td>\n",
       "      <td>...</td>\n",
       "      <td>...</td>\n",
       "    </tr>\n",
       "    <tr>\n",
       "      <th>195</th>\n",
       "      <td>1</td>\n",
       "      <td>5.2</td>\n",
       "      <td>4.874707</td>\n",
       "      <td>6.194402</td>\n",
       "    </tr>\n",
       "    <tr>\n",
       "      <th>196</th>\n",
       "      <td>1</td>\n",
       "      <td>5.2</td>\n",
       "      <td>5.457789</td>\n",
       "      <td>6.797929</td>\n",
       "    </tr>\n",
       "    <tr>\n",
       "      <th>197</th>\n",
       "      <td>1</td>\n",
       "      <td>5.2</td>\n",
       "      <td>2.150528</td>\n",
       "      <td>3.027601</td>\n",
       "    </tr>\n",
       "    <tr>\n",
       "      <th>198</th>\n",
       "      <td>1</td>\n",
       "      <td>5.2</td>\n",
       "      <td>6.277941</td>\n",
       "      <td>7.023167</td>\n",
       "    </tr>\n",
       "    <tr>\n",
       "      <th>199</th>\n",
       "      <td>1</td>\n",
       "      <td>5.2</td>\n",
       "      <td>7.130432</td>\n",
       "      <td>8.397131</td>\n",
       "    </tr>\n",
       "  </tbody>\n",
       "</table>\n",
       "<p>200 rows × 4 columns</p>\n",
       "</div>"
      ],
      "text/plain": [
       "     win7  gshape       pre     treat\n",
       "0       0     4.0  3.215509  4.230110\n",
       "1       0     4.0  5.825667  6.900656\n",
       "2       0     4.0  1.547900  2.590860\n",
       "3       0     4.0  4.355997  5.628185\n",
       "4       0     4.0  3.691639  4.939300\n",
       "..    ...     ...       ...       ...\n",
       "195     1     5.2  4.874707  6.194402\n",
       "196     1     5.2  5.457789  6.797929\n",
       "197     1     5.2  2.150528  3.027601\n",
       "198     1     5.2  6.277941  7.023167\n",
       "199     1     5.2  7.130432  8.397131\n",
       "\n",
       "[200 rows x 4 columns]"
      ]
     },
     "execution_count": 49,
     "metadata": {},
     "output_type": "execute_result"
    }
   ],
   "source": [
    "\n",
    "\n",
    "def gamma_shape(win7):\n",
    "    return 4 + win7_factor * win7\n",
    "    \n",
    "def add_columns(df):\n",
    "    df['gshape'] = gamma_shape(df.win7)\n",
    "#     df['pre'] = df.groupby('win7').win7.transform(gen_times)\n",
    "    df['pre'] = df.groupby('win7').gshape.transform(gen_times_shape)\n",
    "    df['treat'] = df['pre'] + nr.randn(len(df)) * .25 + 1\n",
    "    return df\n",
    "\n",
    "df = pd.DataFrame(data_dct)\n",
    "df = df.pipe(add_columns)\n",
    "df.drop_duplicates()"
   ]
  },
  {
   "cell_type": "code",
   "execution_count": 62,
   "metadata": {},
   "outputs": [
    {
     "data": {
      "text/plain": [
       "(0.025, 0.975)"
      ]
     },
     "execution_count": 62,
     "metadata": {},
     "output_type": "execute_result"
    }
   ],
   "source": [
    "def intervals(n):\n",
    "    \"\"\"\n",
    "    0 <= n <= 100\n",
    "    50% -> [.25, .75]\n",
    "    \"\"\"\n",
    "    pm = n / 2 * .01\n",
    "    return np.round(.5 - pm, 3), np.round(.5 + pm, 3)\n",
    "\n",
    "intervals(95)"
   ]
  },
  {
   "cell_type": "code",
   "execution_count": 74,
   "metadata": {},
   "outputs": [
    {
     "data": {
      "text/html": [
       "<div>\n",
       "<style scoped>\n",
       "    .dataframe tbody tr th:only-of-type {\n",
       "        vertical-align: middle;\n",
       "    }\n",
       "\n",
       "    .dataframe tbody tr th {\n",
       "        vertical-align: top;\n",
       "    }\n",
       "\n",
       "    .dataframe thead th {\n",
       "        text-align: right;\n",
       "    }\n",
       "</style>\n",
       "<table border=\"1\" class=\"dataframe\">\n",
       "  <thead>\n",
       "    <tr style=\"text-align: right;\">\n",
       "      <th></th>\n",
       "      <th>0.025</th>\n",
       "      <th>0.250</th>\n",
       "      <th>0.500</th>\n",
       "      <th>0.750</th>\n",
       "      <th>0.975</th>\n",
       "    </tr>\n",
       "    <tr>\n",
       "      <th>win7</th>\n",
       "      <th></th>\n",
       "      <th></th>\n",
       "      <th></th>\n",
       "      <th></th>\n",
       "      <th></th>\n",
       "    </tr>\n",
       "  </thead>\n",
       "  <tbody>\n",
       "    <tr>\n",
       "      <th>0</th>\n",
       "      <td>1.291482</td>\n",
       "      <td>2.291133</td>\n",
       "      <td>3.757434</td>\n",
       "      <td>4.832630</td>\n",
       "      <td>6.746378</td>\n",
       "    </tr>\n",
       "    <tr>\n",
       "      <th>1</th>\n",
       "      <td>1.893204</td>\n",
       "      <td>3.907341</td>\n",
       "      <td>5.420873</td>\n",
       "      <td>6.753467</td>\n",
       "      <td>9.801736</td>\n",
       "    </tr>\n",
       "  </tbody>\n",
       "</table>\n",
       "</div>"
      ],
      "text/plain": [
       "         0.025     0.250     0.500     0.750     0.975\n",
       "win7                                                  \n",
       "0     1.291482  2.291133  3.757434  4.832630  6.746378\n",
       "1     1.893204  3.907341  5.420873  6.753467  9.801736"
      ]
     },
     "execution_count": 74,
     "metadata": {},
     "output_type": "execute_result"
    }
   ],
   "source": [
    "def samp_probs(df, gb, col, quants=[50, 95]):\n",
    "    \"\"\"\n",
    "    =>\n",
    "        0.025 \t0.250 \t0.500 \t0.750 \t0.975\n",
    "    win7 \t\t\t\t\t\n",
    "    0 \t1.291482 \t2.291133 \t3.757434 \t4.832630 \t6.746378\n",
    "    1 \t1.893204 \t3.907341 \t5.420873 \t6.753467 \t9.801736\n",
    "    \"\"\"\n",
    "    p1a, p1b = intervals(quants[0])\n",
    "    p2a, p2b = intervals(quants[1])\n",
    "    return df.groupby(gb)[col].quantile([p2a, p1a, .5, p1b, p2b])\n",
    "        \n",
    "        \n",
    "sp = samp_probs(df, 'win7', 'pre', quants=[50, 95]).unstack()\n",
    "\n",
    "sp"
   ]
  },
  {
   "cell_type": "code",
   "execution_count": 73,
   "metadata": {},
   "outputs": [
    {
     "name": "stdout",
     "output_type": "stream",
     "text": [
      "(0, 0, 4.0, 3.215509229320043, 4.230110324443039)\n"
     ]
    },
    {
     "ename": "NameError",
     "evalue": "name 'ix' is not defined",
     "output_type": "error",
     "traceback": [
      "\u001b[0;31m---------------------------------------------------------------------------\u001b[0m",
      "\u001b[0;31mNameError\u001b[0m                                 Traceback (most recent call last)",
      "\u001b[0;32m<ipython-input-73-71ea63116223>\u001b[0m in \u001b[0;36m<module>\u001b[0;34m\u001b[0m\n\u001b[1;32m      9\u001b[0m         \u001b[0mplt\u001b[0m\u001b[0;34m.\u001b[0m\u001b[0mplot\u001b[0m\u001b[0;34m(\u001b[0m\u001b[0;34m[\u001b[0m\u001b[0mq1a\u001b[0m\u001b[0;34m,\u001b[0m \u001b[0mq1b\u001b[0m\u001b[0;34m]\u001b[0m\u001b[0;34m,\u001b[0m \u001b[0;34m[\u001b[0m\u001b[0mi\u001b[0m\u001b[0;34m,\u001b[0m \u001b[0mi\u001b[0m\u001b[0;34m]\u001b[0m\u001b[0;34m)\u001b[0m\u001b[0;34m\u001b[0m\u001b[0;34m\u001b[0m\u001b[0m\n\u001b[1;32m     10\u001b[0m \u001b[0;34m\u001b[0m\u001b[0m\n\u001b[0;32m---> 11\u001b[0;31m \u001b[0mplot_probs\u001b[0m\u001b[0;34m(\u001b[0m\u001b[0msp\u001b[0m\u001b[0;34m)\u001b[0m\u001b[0;34m\u001b[0m\u001b[0;34m\u001b[0m\u001b[0m\n\u001b[0m",
      "\u001b[0;32m<ipython-input-73-71ea63116223>\u001b[0m in \u001b[0;36mplot_probs\u001b[0;34m(pdf)\u001b[0m\n\u001b[1;32m      5\u001b[0m     \u001b[0;32mfor\u001b[0m \u001b[0mi\u001b[0m\u001b[0;34m,\u001b[0m \u001b[0mtup\u001b[0m \u001b[0;32min\u001b[0m \u001b[0menumerate\u001b[0m\u001b[0;34m(\u001b[0m\u001b[0mdf\u001b[0m\u001b[0;34m.\u001b[0m\u001b[0mitertuples\u001b[0m\u001b[0;34m(\u001b[0m\u001b[0mindex\u001b[0m\u001b[0;34m=\u001b[0m\u001b[0;32mTrue\u001b[0m\u001b[0;34m,\u001b[0m \u001b[0mname\u001b[0m\u001b[0;34m=\u001b[0m\u001b[0;32mNone\u001b[0m\u001b[0;34m)\u001b[0m\u001b[0;34m)\u001b[0m\u001b[0;34m:\u001b[0m\u001b[0;34m\u001b[0m\u001b[0;34m\u001b[0m\u001b[0m\n\u001b[1;32m      6\u001b[0m         \u001b[0mprint\u001b[0m\u001b[0;34m(\u001b[0m\u001b[0mtup\u001b[0m\u001b[0;34m)\u001b[0m\u001b[0;34m\u001b[0m\u001b[0;34m\u001b[0m\u001b[0m\n\u001b[0;32m----> 7\u001b[0;31m         \u001b[0mix_labels\u001b[0m\u001b[0;34m.\u001b[0m\u001b[0mappend\u001b[0m\u001b[0;34m(\u001b[0m\u001b[0mix\u001b[0m\u001b[0;34m)\u001b[0m\u001b[0;34m\u001b[0m\u001b[0;34m\u001b[0m\u001b[0m\n\u001b[0m\u001b[1;32m      8\u001b[0m         \u001b[0mq1a\u001b[0m\u001b[0;34m,\u001b[0m \u001b[0mq2a\u001b[0m\u001b[0;34m,\u001b[0m \u001b[0mmid\u001b[0m\u001b[0;34m,\u001b[0m \u001b[0mq2b\u001b[0m\u001b[0;34m,\u001b[0m \u001b[0mq1b\u001b[0m \u001b[0;34m=\u001b[0m \u001b[0mrow\u001b[0m\u001b[0;34m\u001b[0m\u001b[0;34m\u001b[0m\u001b[0m\n\u001b[1;32m      9\u001b[0m         \u001b[0mplt\u001b[0m\u001b[0;34m.\u001b[0m\u001b[0mplot\u001b[0m\u001b[0;34m(\u001b[0m\u001b[0;34m[\u001b[0m\u001b[0mq1a\u001b[0m\u001b[0;34m,\u001b[0m \u001b[0mq1b\u001b[0m\u001b[0;34m]\u001b[0m\u001b[0;34m,\u001b[0m \u001b[0;34m[\u001b[0m\u001b[0mi\u001b[0m\u001b[0;34m,\u001b[0m \u001b[0mi\u001b[0m\u001b[0;34m]\u001b[0m\u001b[0;34m)\u001b[0m\u001b[0;34m\u001b[0m\u001b[0;34m\u001b[0m\u001b[0m\n",
      "\u001b[0;31mNameError\u001b[0m: name 'ix' is not defined"
     ]
    }
   ],
   "source": [
    "def plot_probs(pdf):\n",
    "    \"\"\"\n",
    "    \"\"\"\n",
    "    ix_labels = []\n",
    "    for i, tup in enumerate(df.itertuples(index=True, name=None)):\n",
    "        print(tup)\n",
    "        ix_labels.append(ix)\n",
    "        q1a, q2a, mid, q2b, q1b = row\n",
    "        plt.plot([q1a, q1b], [i, i])\n",
    "        \n",
    "plot_probs(sp)"
   ]
  },
  {
   "cell_type": "code",
   "execution_count": null,
   "metadata": {},
   "outputs": [],
   "source": []
  },
  {
   "cell_type": "code",
   "execution_count": 56,
   "metadata": {},
   "outputs": [
    {
     "data": {
      "text/html": [
       "<div>\n",
       "<style scoped>\n",
       "    .dataframe tbody tr th:only-of-type {\n",
       "        vertical-align: middle;\n",
       "    }\n",
       "\n",
       "    .dataframe tbody tr th {\n",
       "        vertical-align: top;\n",
       "    }\n",
       "\n",
       "    .dataframe thead tr th {\n",
       "        text-align: left;\n",
       "    }\n",
       "\n",
       "    .dataframe thead tr:last-of-type th {\n",
       "        text-align: right;\n",
       "    }\n",
       "</style>\n",
       "<table border=\"1\" class=\"dataframe\">\n",
       "  <thead>\n",
       "    <tr>\n",
       "      <th></th>\n",
       "      <th colspan=\"4\" halign=\"left\">pre</th>\n",
       "      <th colspan=\"4\" halign=\"left\">treat</th>\n",
       "    </tr>\n",
       "    <tr>\n",
       "      <th></th>\n",
       "      <th>0.025</th>\n",
       "      <th>0.250</th>\n",
       "      <th>0.750</th>\n",
       "      <th>0.975</th>\n",
       "      <th>0.025</th>\n",
       "      <th>0.250</th>\n",
       "      <th>0.750</th>\n",
       "      <th>0.975</th>\n",
       "    </tr>\n",
       "    <tr>\n",
       "      <th>win7</th>\n",
       "      <th></th>\n",
       "      <th></th>\n",
       "      <th></th>\n",
       "      <th></th>\n",
       "      <th></th>\n",
       "      <th></th>\n",
       "      <th></th>\n",
       "      <th></th>\n",
       "    </tr>\n",
       "  </thead>\n",
       "  <tbody>\n",
       "    <tr>\n",
       "      <th>0</th>\n",
       "      <td>1.291482</td>\n",
       "      <td>2.291133</td>\n",
       "      <td>4.832630</td>\n",
       "      <td>6.746378</td>\n",
       "      <td>2.187699</td>\n",
       "      <td>3.440991</td>\n",
       "      <td>6.001139</td>\n",
       "      <td>7.809183</td>\n",
       "    </tr>\n",
       "    <tr>\n",
       "      <th>1</th>\n",
       "      <td>1.893204</td>\n",
       "      <td>3.907341</td>\n",
       "      <td>6.753467</td>\n",
       "      <td>9.801736</td>\n",
       "      <td>2.651389</td>\n",
       "      <td>4.877444</td>\n",
       "      <td>8.005081</td>\n",
       "      <td>10.797514</td>\n",
       "    </tr>\n",
       "  </tbody>\n",
       "</table>\n",
       "</div>"
      ],
      "text/plain": [
       "           pre                                   treat                      \\\n",
       "         0.025     0.250     0.750     0.975     0.025     0.250     0.750   \n",
       "win7                                                                         \n",
       "0     1.291482  2.291133  4.832630  6.746378  2.187699  3.440991  6.001139   \n",
       "1     1.893204  3.907341  6.753467  9.801736  2.651389  4.877444  8.005081   \n",
       "\n",
       "                 \n",
       "          0.975  \n",
       "win7             \n",
       "0      7.809183  \n",
       "1     10.797514  "
      ]
     },
     "execution_count": 56,
     "metadata": {},
     "output_type": "execute_result"
    }
   ],
   "source": [
    "df.groupby(['win7'])[['pre', 'treat']].quantile([.025, .25, .75, .975]).unstack()\n",
    "# .T.unstack()"
   ]
  },
  {
   "cell_type": "code",
   "execution_count": 37,
   "metadata": {},
   "outputs": [
    {
     "data": {
      "text/plain": [
       "win7\n",
       "0    3.943179\n",
       "1    5.037273\n",
       "Name: pre, dtype: float64"
      ]
     },
     "execution_count": 37,
     "metadata": {},
     "output_type": "execute_result"
    }
   ],
   "source": [
    "df.groupby('win7').pre.mean()"
   ]
  },
  {
   "cell_type": "code",
   "execution_count": 25,
   "metadata": {},
   "outputs": [],
   "source": [
    "\n",
    "for win7, gdf in df.groupby('win7'):\n",
    "    1\n",
    "    \n",
    "del win7"
   ]
  },
  {
   "cell_type": "code",
   "execution_count": 26,
   "metadata": {},
   "outputs": [],
   "source": [
    "win7_factor = 1.2"
   ]
  },
  {
   "cell_type": "code",
   "execution_count": 33,
   "metadata": {},
   "outputs": [
    {
     "data": {
      "text/plain": [
       "0      2.478191\n",
       "1      5.925980\n",
       "2      3.496899\n",
       "3      2.763261\n",
       "4      4.099979\n",
       "         ...   \n",
       "195    6.584048\n",
       "196    4.732905\n",
       "197    8.471105\n",
       "198    5.075637\n",
       "199    6.515102\n",
       "Name: win7, Length: 200, dtype: float64"
      ]
     },
     "execution_count": 33,
     "metadata": {},
     "output_type": "execute_result"
    }
   ],
   "source": [
    "\n",
    "\n"
   ]
  },
  {
   "cell_type": "code",
   "execution_count": 28,
   "metadata": {},
   "outputs": [
    {
     "data": {
      "text/plain": [
       "array([ 6.34287986,  8.29400055,  3.86011934,  4.71740867,  4.077222  ,\n",
       "        2.74979419,  8.05449351,  3.4211673 ,  2.23160687,  5.08236236,\n",
       "        8.17839293,  9.21811824,  6.40418047,  5.56704633,  9.84224384,\n",
       "        2.03353503,  4.13683286,  3.87037225,  7.30763174,  4.8991104 ,\n",
       "        6.44674736,  2.24350709,  8.75822267,  2.64080528,  3.2023845 ,\n",
       "        5.52908504,  5.97947929,  3.20193954,  5.259023  ,  4.83426586,\n",
       "        6.35296539,  5.06066637,  1.60063074,  5.09167683,  5.49627631,\n",
       "        4.65179492,  3.70787895,  3.37974924,  6.70361139,  7.42513825,\n",
       "        2.0560458 ,  4.74936638,  6.10453699,  8.67311461,  5.51279369,\n",
       "        3.15418694,  3.91993632,  9.99633637,  6.7461091 ,  4.33455114,\n",
       "        5.24775049,  4.32623756,  1.98115635,  2.75205097,  5.68386713,\n",
       "        3.86207278,  2.32579618,  6.46534093,  5.46840658,  4.40755722,\n",
       "        4.24911786,  4.93793056,  3.3571879 , 10.49017258,  4.87070195,\n",
       "        7.55808437,  5.85716964,  7.41336521,  2.89036723,  5.58734762,\n",
       "        3.97941127,  1.8634038 ,  7.91271374,  6.79793565,  4.04560538,\n",
       "        7.3463036 ,  4.08454302,  4.61105385, 11.43107934,  6.26248207,\n",
       "        4.04431549,  2.88817229,  7.42111031,  5.80663204,  4.0039102 ,\n",
       "        5.72600042,  9.87992028,  5.05337975,  2.59042032,  0.88274964,\n",
       "        3.03468401,  6.67697006,  4.43405784,  3.45954821,  8.61252712,\n",
       "        3.03545003,  8.42645737,  3.27823299,  7.61682543,  6.2791969 ])"
      ]
     },
     "execution_count": 28,
     "metadata": {},
     "output_type": "execute_result"
    }
   ],
   "source": []
  },
  {
   "cell_type": "code",
   "execution_count": 22,
   "metadata": {},
   "outputs": [
    {
     "data": {
      "text/html": [
       "<div>\n",
       "<style scoped>\n",
       "    .dataframe tbody tr th:only-of-type {\n",
       "        vertical-align: middle;\n",
       "    }\n",
       "\n",
       "    .dataframe tbody tr th {\n",
       "        vertical-align: top;\n",
       "    }\n",
       "\n",
       "    .dataframe thead th {\n",
       "        text-align: right;\n",
       "    }\n",
       "</style>\n",
       "<table border=\"1\" class=\"dataframe\">\n",
       "  <thead>\n",
       "    <tr style=\"text-align: right;\">\n",
       "      <th></th>\n",
       "      <th>win7</th>\n",
       "    </tr>\n",
       "  </thead>\n",
       "  <tbody>\n",
       "    <tr>\n",
       "      <th>100</th>\n",
       "      <td>1</td>\n",
       "    </tr>\n",
       "    <tr>\n",
       "      <th>101</th>\n",
       "      <td>1</td>\n",
       "    </tr>\n",
       "    <tr>\n",
       "      <th>102</th>\n",
       "      <td>1</td>\n",
       "    </tr>\n",
       "    <tr>\n",
       "      <th>103</th>\n",
       "      <td>1</td>\n",
       "    </tr>\n",
       "    <tr>\n",
       "      <th>104</th>\n",
       "      <td>1</td>\n",
       "    </tr>\n",
       "    <tr>\n",
       "      <th>...</th>\n",
       "      <td>...</td>\n",
       "    </tr>\n",
       "    <tr>\n",
       "      <th>195</th>\n",
       "      <td>1</td>\n",
       "    </tr>\n",
       "    <tr>\n",
       "      <th>196</th>\n",
       "      <td>1</td>\n",
       "    </tr>\n",
       "    <tr>\n",
       "      <th>197</th>\n",
       "      <td>1</td>\n",
       "    </tr>\n",
       "    <tr>\n",
       "      <th>198</th>\n",
       "      <td>1</td>\n",
       "    </tr>\n",
       "    <tr>\n",
       "      <th>199</th>\n",
       "      <td>1</td>\n",
       "    </tr>\n",
       "  </tbody>\n",
       "</table>\n",
       "<p>100 rows × 1 columns</p>\n",
       "</div>"
      ],
      "text/plain": [
       "     win7\n",
       "100     1\n",
       "101     1\n",
       "102     1\n",
       "103     1\n",
       "104     1\n",
       "..    ...\n",
       "195     1\n",
       "196     1\n",
       "197     1\n",
       "198     1\n",
       "199     1\n",
       "\n",
       "[100 rows x 1 columns]"
      ]
     },
     "execution_count": 22,
     "metadata": {},
     "output_type": "execute_result"
    }
   ],
   "source": [
    "gdf"
   ]
  },
  {
   "cell_type": "code",
   "execution_count": 10,
   "metadata": {},
   "outputs": [
    {
     "data": {
      "text/plain": [
       "[<matplotlib.lines.Line2D at 0x7fcf84ca6050>]"
      ]
     },
     "execution_count": 10,
     "metadata": {},
     "output_type": "execute_result"
    },
    {
     "data": {
      "image/png": "[encoded data removed]",
      "text/plain": [
       "<Figure size 432x288 with 1 Axes>"
      ]
     },
     "metadata": {
      "needs_background": "light"
     },
     "output_type": "display_data"
    }
   ],
   "source": [
    "plt.plot(10 ** xs, ys)"
   ]
  }
 ],
 "metadata": {
  "kernelspec": {
   "display_name": "Python 3",
   "language": "python",
   "name": "python3"
  },
  "language_info": {
   "codemirror_mode": {
    "name": "ipython",
    "version": 3
   },
   "file_extension": ".py",
   "mimetype": "text/x-python",
   "name": "python",
   "nbconvert_exporter": "python",
   "pygments_lexer": "ipython3",
   "version": "3.7.8"
  }
 },
 "nbformat": 4,
 "nbformat_minor": 4
}
