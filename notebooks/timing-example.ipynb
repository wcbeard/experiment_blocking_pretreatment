{
 "cells": [
  {
   "cell_type": "code",
   "execution_count": 1,
   "metadata": {},
   "outputs": [],
   "source": [
    "import sys\n",
    "sys.path.insert(0, '/home/jovyan/ros/')\n",
    "\n",
    "%load_ext autoreload\n",
    "%autoreload 2"
   ]
  },
  {
   "cell_type": "code",
   "execution_count": 2,
   "metadata": {},
   "outputs": [
    {
     "name": "stdout",
     "output_type": "stream",
     "text": [
      "Warning, $BQ_CREDS not found in environment\n"
     ]
    },
    {
     "name": "stderr",
     "output_type": "stream",
     "text": [
      "/opt/conda/lib/python3.7/site-packages/sklearn/utils/deprecation.py:143: FutureWarning: The sklearn.preprocessing.data module is  deprecated in version 0.22 and will be removed in version 0.24. The corresponding classes / functions should instead be imported from sklearn.preprocessing. Anything that cannot be imported from sklearn.preprocessing is now part of the private API.\n",
      "  warnings.warn(message, FutureWarning)\n"
     ]
    }
   ],
   "source": [
    "import itertools as it\n",
    "import operator\n",
    "\n",
    "import altair as A\n",
    "import matplotlib.pyplot as plt\n",
    "import numpy as np\n",
    "import numpy.random as nr\n",
    "import pandas as pd\n",
    "import scipy.stats as st\n",
    "from numba import njit\n",
    "import toolz.curried as z\n",
    "import seaborn as sns\n",
    "\n",
    "\n",
    "\n",
    "from ros.utils.common import hstack, vstack, plot_wrap, drop_outliers\n",
    "from ros.utils import plot as plu\n",
    "from ros.utils import bootstrap as bs\n",
    "\n",
    "import dscontrib.wbeard as wb\n",
    "\n",
    "str_concat = z.compose('-'.join, z.map(str))\n",
    "lmap = z.comp(list, map)\n",
    "plt.rcParams['font.size'] = 17"
   ]
  },
  {
   "cell_type": "markdown",
   "metadata": {},
   "source": [
    "# Build dataset"
   ]
  },
  {
   "cell_type": "code",
   "execution_count": 33,
   "metadata": {},
   "outputs": [],
   "source": [
    "@njit\n",
    "def _gen_pre_post(win7, win7_fact, treat, treat_fact, treat_std=.15, exp=True):\n",
    "    pre = nr.gamma(4 + win7_fact * win7)\n",
    "    post = pre + nr.randn() * treat_std + (treat_fact * treat)\n",
    "    if exp:\n",
    "        return np.exp(pre), np.exp(post)\n",
    "    return pre, post\n",
    "\n",
    "del _gen_pre_post"
   ]
  },
  {
   "cell_type": "markdown",
   "metadata": {},
   "source": [
    "### With Numba"
   ]
  },
  {
   "cell_type": "code",
   "execution_count": 3,
   "metadata": {},
   "outputs": [],
   "source": [
    "WIN7_FACT = 1.2\n",
    "TREAT_MU = np.log(.9)\n",
    "TREAT_SD = .15\n",
    "\n",
    "@njit\n",
    "def seed(n):\n",
    "    nr.seed(n)\n",
    "\n",
    "@njit\n",
    "def randn(mu, sig, size=1):\n",
    "    return nr.randn(size) * sig + mu\n",
    "\n",
    "@njit\n",
    "def gen_log_first_paint_pre_post(win7, treat, size=1):\n",
    "    pre = nr.gamma(4 + WIN7_FACT * win7, 1, size=size)\n",
    "    return np.concatenate((pre, pre + randn(TREAT_MU * treat, TREAT_SD, size=size)))"
   ]
  },
  {
   "cell_type": "markdown",
   "metadata": {},
   "source": [
    "\\begin{align}\n",
    "fp_{baseline} & \\sim \\mathrm{Gamma}(4 + \\mathbb 1_{win7} \\cdot \\mu_{win}) \\\\\n",
    "w_{treat} & \\sim \\mathcal N (\\mathbb 1_{treat} \\cdot \\mu_{treat}, \\sigma_{treat}) \\\\\n",
    "\\log(first\\_paint) & = fp_{baseline} + w_{treat}\n",
    "\\end{align}"
   ]
  },
  {
   "cell_type": "code",
   "execution_count": 4,
   "metadata": {},
   "outputs": [
    {
     "name": "stdout",
     "output_type": "stream",
     "text": [
      "40000\n"
     ]
    },
    {
     "data": {
      "text/html": [
       "<div>\n",
       "<style scoped>\n",
       "    .dataframe tbody tr th:only-of-type {\n",
       "        vertical-align: middle;\n",
       "    }\n",
       "\n",
       "    .dataframe tbody tr th {\n",
       "        vertical-align: top;\n",
       "    }\n",
       "\n",
       "    .dataframe thead th {\n",
       "        text-align: right;\n",
       "    }\n",
       "</style>\n",
       "<table border=\"1\" class=\"dataframe\">\n",
       "  <thead>\n",
       "    <tr style=\"text-align: right;\">\n",
       "      <th></th>\n",
       "      <th>id</th>\n",
       "      <th>win7</th>\n",
       "      <th>treat</th>\n",
       "      <th>lpre</th>\n",
       "      <th>lpost</th>\n",
       "      <th>pre</th>\n",
       "      <th>post</th>\n",
       "      <th>os</th>\n",
       "      <th>demo</th>\n",
       "    </tr>\n",
       "  </thead>\n",
       "  <tbody>\n",
       "    <tr>\n",
       "      <th>0</th>\n",
       "      <td>0</td>\n",
       "      <td>0</td>\n",
       "      <td>0</td>\n",
       "      <td>4.307378</td>\n",
       "      <td>4.454188</td>\n",
       "      <td>74.245525</td>\n",
       "      <td>85.986320</td>\n",
       "      <td>win10</td>\n",
       "      <td>control-win10</td>\n",
       "    </tr>\n",
       "    <tr>\n",
       "      <th>20000</th>\n",
       "      <td>20000</td>\n",
       "      <td>1</td>\n",
       "      <td>0</td>\n",
       "      <td>4.774024</td>\n",
       "      <td>4.808432</td>\n",
       "      <td>118.394690</td>\n",
       "      <td>122.539269</td>\n",
       "      <td>win7</td>\n",
       "      <td>control-win7</td>\n",
       "    </tr>\n",
       "  </tbody>\n",
       "</table>\n",
       "</div>"
      ],
      "text/plain": [
       "          id  win7  treat      lpre     lpost         pre        post     os  \\\n",
       "0          0     0      0  4.307378  4.454188   74.245525   85.986320  win10   \n",
       "20000  20000     1      0  4.774024  4.808432  118.394690  122.539269   win7   \n",
       "\n",
       "                demo  \n",
       "0      control-win10  \n",
       "20000   control-win7  "
      ]
     },
     "execution_count": 4,
     "metadata": {},
     "output_type": "execute_result"
    }
   ],
   "source": [
    "n_each = 10_000\n",
    "n_win_7 = {0: n_each, 1: n_each}\n",
    "seed(0)\n",
    "\n",
    "\n",
    "def add_columns(df):\n",
    "    pre_post = pd.DataFrame(\n",
    "        [\n",
    "            gen_log_first_paint_pre_post(win7, treat=treat)\n",
    "            # gen_pre_post(win7, win7_fact=WIN7_FACT, treat=treat, treat_fact=TREAT_FACT,)\n",
    "            for win7, treat in df[[\"win7\", \"treat\"]].itertuples(index=False)\n",
    "        ],\n",
    "        columns=[\"lpre\", \"lpost\"],\n",
    "    ).assign(\n",
    "        pre=lambda df: np.exp(df.lpre),\n",
    "        post=lambda df: np.exp(df.lpost),\n",
    "    )\n",
    "    df = hstack([df, pre_post])\n",
    "    df = (\n",
    "        df.assign(os=lambda df: df.win7.map({0: \"win10\", 1: \"win7\"}))\n",
    "        .reset_index(drop=0)\n",
    "        .rename(columns={\"index\": \"id\"})\n",
    "    )\n",
    "    df[\"demo\"] = [\n",
    "        str_concat(tup)\n",
    "        for tup in df[[\"treat\", \"os\"]]\n",
    "        .assign(treat=lambda df: df.treat.map({1: \"treat\", 0: \"control\"}))\n",
    "        .itertuples(index=False)\n",
    "    ]\n",
    "    return df\n",
    "\n",
    "\n",
    "def create_test_pop(n_each=50):\n",
    "    data_dct = [\n",
    "        {\"win7\": win7, \"treat\": treat}\n",
    "        for win7 in (0, 1)\n",
    "        for treat in (0, 1)\n",
    "        for _ in range(n_win_7[win7])\n",
    "    ]\n",
    "    df_ = pd.DataFrame(data_dct)\n",
    "    df = df_.pipe(add_columns)\n",
    "    return df\n",
    "\n",
    "\n",
    "def stack_pre_post(df):\n",
    "    \"\"\"\n",
    "    demo[graphic] is concatenated values for\n",
    "    [\"treat\", \"os\"]\n",
    "    demo2 is for [\"treat\", \"os\", \"pre\"]\n",
    "    \"\"\"\n",
    "    dfs = (\n",
    "        df.set_index([\"id\", \"win7\", \"os\", \"treat\", \"demo\"])\n",
    "        .stack()\n",
    "        .reset_index(drop=0)\n",
    "        .rename(columns={\"level_5\": \"pre\", 0: \"y\"})\n",
    "        .assign(\n",
    "            demo2=lambda df: lmap(\n",
    "                str_concat, df[[\"demo\", \"pre\"]].itertuples(index=False)\n",
    "            )\n",
    "        )\n",
    "        .assign(pre=lambda df: (df.pre == \"pre\").astype(int))\n",
    "    )\n",
    "    return dfs\n",
    "\n",
    "\n",
    "treat_i2name = {0: \"control\", 1: \"treat\"}\n",
    "df = create_test_pop()\n",
    "dfs = stack_pre_post(df.drop([\"lpre\", \"lpost\"], axis=1)).assign(\n",
    "    branch=lambda df: df.treat.map(treat_i2name)\n",
    ")\n",
    "print(len(df))\n",
    "df.drop_duplicates(\"win7\")"
   ]
  },
  {
   "cell_type": "code",
   "execution_count": 13,
   "metadata": {},
   "outputs": [
    {
     "data": {
      "text/html": [
       "<div>\n",
       "<style scoped>\n",
       "    .dataframe tbody tr th:only-of-type {\n",
       "        vertical-align: middle;\n",
       "    }\n",
       "\n",
       "    .dataframe tbody tr th {\n",
       "        vertical-align: top;\n",
       "    }\n",
       "\n",
       "    .dataframe thead th {\n",
       "        text-align: right;\n",
       "    }\n",
       "</style>\n",
       "<table border=\"1\" class=\"dataframe\">\n",
       "  <thead>\n",
       "    <tr style=\"text-align: right;\">\n",
       "      <th></th>\n",
       "      <th>id</th>\n",
       "      <th>win7</th>\n",
       "      <th>os</th>\n",
       "      <th>treat</th>\n",
       "      <th>demo</th>\n",
       "      <th>pre</th>\n",
       "      <th>y</th>\n",
       "      <th>demo2</th>\n",
       "      <th>branch</th>\n",
       "    </tr>\n",
       "  </thead>\n",
       "  <tbody>\n",
       "    <tr>\n",
       "      <th>0</th>\n",
       "      <td>0</td>\n",
       "      <td>0</td>\n",
       "      <td>win10</td>\n",
       "      <td>0</td>\n",
       "      <td>control-win10</td>\n",
       "      <td>1</td>\n",
       "      <td>74.245525</td>\n",
       "      <td>control-win10-pre</td>\n",
       "      <td>control</td>\n",
       "    </tr>\n",
       "    <tr>\n",
       "      <th>1</th>\n",
       "      <td>0</td>\n",
       "      <td>0</td>\n",
       "      <td>win10</td>\n",
       "      <td>0</td>\n",
       "      <td>control-win10</td>\n",
       "      <td>0</td>\n",
       "      <td>85.986320</td>\n",
       "      <td>control-win10-post</td>\n",
       "      <td>control</td>\n",
       "    </tr>\n",
       "    <tr>\n",
       "      <th>2</th>\n",
       "      <td>1</td>\n",
       "      <td>0</td>\n",
       "      <td>win10</td>\n",
       "      <td>0</td>\n",
       "      <td>control-win10</td>\n",
       "      <td>1</td>\n",
       "      <td>35.188365</td>\n",
       "      <td>control-win10-pre</td>\n",
       "      <td>control</td>\n",
       "    </tr>\n",
       "  </tbody>\n",
       "</table>\n",
       "</div>"
      ],
      "text/plain": [
       "   id  win7     os  treat           demo  pre          y               demo2  \\\n",
       "0   0     0  win10      0  control-win10    1  74.245525   control-win10-pre   \n",
       "1   0     0  win10      0  control-win10    0  85.986320  control-win10-post   \n",
       "2   1     0  win10      0  control-win10    1  35.188365   control-win10-pre   \n",
       "\n",
       "    branch  \n",
       "0  control  \n",
       "1  control  \n",
       "2  control  "
      ]
     },
     "execution_count": 13,
     "metadata": {},
     "output_type": "execute_result"
    }
   ],
   "source": [
    "dfs[:3]"
   ]
  },
  {
   "cell_type": "code",
   "execution_count": 52,
   "metadata": {},
   "outputs": [
    {
     "data": {
      "image/png": "[encoded data removed]",
      "text/plain": [
       "<Figure size 1152x360 with 2 Axes>"
      ]
     },
     "metadata": {
      "needs_background": "light"
     },
     "output_type": "display_data"
    }
   ],
   "source": [
    "import dscontrib.wbeard as wb\n",
    "axs, spi = wb.plot_utils.mk_sublots(nrows=1, ncols=2, figsize=(16, 5), sharex=False)\n",
    "\n",
    "\n",
    "\n",
    "for pre, pdf in dfs.groupby('pre'):\n",
    "    spi.n\n",
    "    plt.title(['Pre-enrollment', 'Post-enrollment'][pre])\n",
    "    for branch, bdf in pdf.groupby('branch'):\n",
    "        lbins = np.logspace(0, np.log(bdf.y.max()), 100)\n",
    "        plt.hist(bdf.y, bins=lbins, density=1, alpha=.5, label=branch)\n",
    "    \n",
    "    plt.legend()\n",
    "    plt.xscale(\"log\")\n",
    "    \n",
    "    if not pre:\n",
    "        plt.ylabel(\"Density\")\n",
    "    plt.xlabel(\"Simulated first paint (ms)\")\n",
    "    \n"
   ]
  },
  {
   "cell_type": "markdown",
   "metadata": {},
   "source": [
    "- control: no difference pre/post\n",
    "- for the treatment groups post is slightly larger than pre"
   ]
  },
  {
   "cell_type": "code",
   "execution_count": 57,
   "metadata": {},
   "outputs": [],
   "source": [
    "# (dfs.y < 10_000).mean()"
   ]
  },
  {
   "cell_type": "code",
   "execution_count": 36,
   "metadata": {},
   "outputs": [
    {
     "data": {
      "image/png": "[encoded data removed]",
      "text/plain": [
       "<Figure size 432x288 with 1 Axes>"
      ]
     },
     "metadata": {
      "needs_background": "light"
     },
     "output_type": "display_data"
    }
   ],
   "source": [
    "plu.plot_groupby(dfs, 'demo2', 'y', quants=[50, 95])\n",
    "plt.xscale('log')"
   ]
  },
  {
   "cell_type": "markdown",
   "metadata": {},
   "source": [
    "# Difference in means"
   ]
  },
  {
   "cell_type": "code",
   "execution_count": 40,
   "metadata": {},
   "outputs": [
    {
     "data": {
      "text/plain": [
       "-0.10536051565782628"
      ]
     },
     "execution_count": 40,
     "metadata": {},
     "output_type": "execute_result"
    }
   ],
   "source": [
    "np.log(.9)"
   ]
  },
  {
   "cell_type": "code",
   "execution_count": 34,
   "metadata": {},
   "outputs": [
    {
     "data": {
      "text/plain": [
       "treatn\n",
       "control     9317.992199\n",
       "treat      34222.844459\n",
       "Name: y, dtype: float64"
      ]
     },
     "execution_count": 34,
     "metadata": {},
     "output_type": "execute_result"
    }
   ],
   "source": [
    "dfs_pre = dfs.query(\"pre == 1\")\n",
    "dfs_pre.groupby(\n",
    "    \"treatn\"\n",
    ").y.mean()"
   ]
  },
  {
   "cell_type": "code",
   "execution_count": 35,
   "metadata": {},
   "outputs": [
    {
     "data": {
      "text/plain": [
       "80000"
      ]
     },
     "execution_count": 35,
     "metadata": {},
     "output_type": "execute_result"
    }
   ],
   "source": [
    "len(dfs)"
   ]
  },
  {
   "cell_type": "code",
   "execution_count": 95,
   "metadata": {},
   "outputs": [],
   "source": [
    "def bootstrap_stat_diff(\n",
    "    df, gbcol, ycol, stat_fn=np.mean, n_reps=10_000, comp=operator.sub\n",
    "):\n",
    "    \"\"\"\n",
    "    `gbcol` needs to be col of 0 and 1's, designating\n",
    "    the groups being compared.\n",
    "    \"\"\"\n",
    "    control = df[ycol][df[gbcol] == 0].values\n",
    "    treat = df[ycol][df[gbcol] == 1].values\n",
    "    size = len(control)\n",
    "    stats = []\n",
    "\n",
    "    for _ in range(n_reps):\n",
    "        ac = nr.choice(control, size=size, replace=True)\n",
    "        at = nr.choice(treat, size=size, replace=True)\n",
    "        #         stats.append(stat_fn(at) - stat_fn(ac))\n",
    "        stats.append(comp(stat_fn(at), stat_fn(ac)))\n",
    "\n",
    "    return np.array(stats)\n",
    "\n",
    "\n",
    "def uplift(a, b):\n",
    "    return a / b - 1\n",
    "\n",
    "\n",
    "dfs_post = dfs.query(\"pre == 0\")\n",
    "diffs = bootstrap_stat_diff(dfs_post, \"treat\", \"y\")\n",
    "diffs_out_rm = bootstrap_stat_diff(\n",
    "    dfs_post.pipe(drop_outliers), \"treat\", \"y\")\n",
    "diffs_log = bootstrap_stat_diff(dfs_post, \"treat\", \"y\", stat_fn=st.gmean, n_reps=10_000)"
   ]
  },
  {
   "cell_type": "code",
   "execution_count": 98,
   "metadata": {},
   "outputs": [],
   "source": [
    "ul_out_rm = bootstrap_stat_diff(dfs_post.pipe(drop_outliers), 'treat', 'y', stat_fn=np.mean, n_reps=10_000, comp=uplift)\n",
    "ul_out_rm_ = plot_wrap(ul_out_rm)"
   ]
  },
  {
   "cell_type": "code",
   "execution_count": 96,
   "metadata": {},
   "outputs": [],
   "source": []
  },
  {
   "cell_type": "code",
   "execution_count": 89,
   "metadata": {},
   "outputs": [],
   "source": [
    "# diffs_log = bootstrap_stat_diff(\n",
    "#     dfs.query(\"pre == 0\").assign(yl=lambda df: df.y.pipe(np.log)),\n",
    "#     \"treat\",\n",
    "#     \"yl\",\n",
    "#     stat_fn=np.mean,\n",
    "#     n_reps=10_000,\n",
    "# )"
   ]
  },
  {
   "cell_type": "code",
   "execution_count": 91,
   "metadata": {},
   "outputs": [],
   "source": [
    "diffs_ = plot_wrap(diffs)\n",
    "diffs_out_rm_ = plot_wrap(diffs_out_rm)\n",
    "diffsl_ = plot_wrap(diffs_log)"
   ]
  },
  {
   "cell_type": "code",
   "execution_count": 92,
   "metadata": {},
   "outputs": [
    {
     "data": {
      "image/png": "[encoded data removed]",
      "text/plain": [
       "<Figure size 1152x360 with 2 Axes>"
      ]
     },
     "metadata": {
      "needs_background": "light"
     },
     "output_type": "display_data"
    }
   ],
   "source": [
    "axs, spi = wb.plot_utils.mk_sublots(nrows=1, ncols=2, figsize=(16, 5))\n",
    "\n",
    "spi.n\n",
    "plt.title('Difference in means')\n",
    "plu.plot_groupby(diffs_, 'g', 'y', )\n",
    "plt.yticks([0], ['Pre-enrollment'])\n",
    "plt.xscale('log')\n",
    "\n",
    "spi.n\n",
    "plt.title('Outliers removed')\n",
    "plu.plot_groupby(diffs_out_rm_, 'g', 'y', )\n",
    "# plu.plot_groupby(diffsl_, 'g', 'y', )\n",
    "plt.yticks([0], ['']);"
   ]
  },
  {
   "cell_type": "code",
   "execution_count": 100,
   "metadata": {},
   "outputs": [
    {
     "data": {
      "image/png": "[encoded data removed]",
      "text/plain": [
       "<Figure size 1152x360 with 2 Axes>"
      ]
     },
     "metadata": {
      "needs_background": "light"
     },
     "output_type": "display_data"
    }
   ],
   "source": [
    "axs, spi = wb.plot_utils.mk_sublots(nrows=1, ncols=2, figsize=(16, 5))\n",
    "\n",
    "spi.n\n",
    "plt.title('Difference in means')\n",
    "plu.plot_groupby(ul_out_rm_, 'g', 'y', )\n",
    "plt.yticks([0], ['Pre-enrollment'])\n",
    "# plt.xscale('log')\n",
    "\n",
    "spi.n\n",
    "plt.title('Outliers removed')\n",
    "plu.plot_groupby(diffs_out_rm_, 'g', 'y', )\n",
    "# plu.plot_groupby(diffsl_, 'g', 'y', )\n",
    "plt.yticks([0], ['']);"
   ]
  },
  {
   "cell_type": "code",
   "execution_count": 106,
   "metadata": {},
   "outputs": [
    {
     "data": {
      "text/plain": [
       "0       -8.492511\n",
       "1       -7.664071\n",
       "2      -12.088349\n",
       "3       -6.920442\n",
       "4       -6.533748\n",
       "          ...    \n",
       "9995    -7.579566\n",
       "9996    -9.721787\n",
       "9997    -8.297646\n",
       "9998    -4.209891\n",
       "9999    -8.423540\n",
       "Name: y, Length: 10000, dtype: float64"
      ]
     },
     "execution_count": 106,
     "metadata": {},
     "output_type": "execute_result"
    }
   ],
   "source": [
    "diffsl_.y"
   ]
  },
  {
   "cell_type": "code",
   "execution_count": 102,
   "metadata": {},
   "outputs": [
    {
     "data": {
      "image/png": "[encoded data removed]",
      "text/plain": [
       "<Figure size 432x288 with 1 Axes>"
      ]
     },
     "metadata": {
      "needs_background": "light"
     },
     "output_type": "display_data"
    }
   ],
   "source": [
    "plt.title('Geometric means')\n",
    "# plu.plot_groupby(diffs2_, 'g', 'y', )\n",
    "plu.plot_groupby(diffsl_, 'g', 'y', )\n",
    "plt.yticks([0], ['']);"
   ]
  },
  {
   "cell_type": "code",
   "execution_count": 37,
   "metadata": {},
   "outputs": [
    {
     "data": {
      "text/plain": [
       "treatn\n",
       "control    4.600171\n",
       "treat      4.620200\n",
       "Name: yl, dtype: float64"
      ]
     },
     "execution_count": 37,
     "metadata": {},
     "output_type": "execute_result"
    }
   ],
   "source": [
    "dfs_pre.assign(\n",
    "    yl=lambda df: df.y.pipe(np.log)\n",
    ").groupby(\"treatn\").yl.mean()"
   ]
  },
  {
   "cell_type": "markdown",
   "metadata": {},
   "source": [
    "Top .01%"
   ]
  },
  {
   "cell_type": "code",
   "execution_count": 43,
   "metadata": {},
   "outputs": [
    {
     "data": {
      "text/plain": [
       "treatn\n",
       "control    7.889577e+06\n",
       "treat      4.457358e+07\n",
       "Name: y, dtype: float64"
      ]
     },
     "execution_count": 43,
     "metadata": {},
     "output_type": "execute_result"
    }
   ],
   "source": [
    "dfs_pre.groupby('treatn').y.agg(lambda s: np.percentile(s, 99.99))"
   ]
  },
  {
   "cell_type": "markdown",
   "metadata": {},
   "source": [
    "## As linear regression"
   ]
  },
  {
   "cell_type": "code",
   "execution_count": 45,
   "metadata": {},
   "outputs": [
    {
     "name": "stderr",
     "output_type": "stream",
     "text": [
      "WARNING (theano.configdefaults): install mkl with `conda install mkl-service`: No module named 'mkl'\n"
     ]
    }
   ],
   "source": [
    "from bambi import Model\n",
    "import arviz as az\n",
    "\n",
    "data = dfs.assign(yl=lambda df: df.y.pipe(np.log))"
   ]
  },
  {
   "cell_type": "code",
   "execution_count": 47,
   "metadata": {},
   "outputs": [
    {
     "data": {
      "text/html": [
       "<div>\n",
       "<style scoped>\n",
       "    .dataframe tbody tr th:only-of-type {\n",
       "        vertical-align: middle;\n",
       "    }\n",
       "\n",
       "    .dataframe tbody tr th {\n",
       "        vertical-align: top;\n",
       "    }\n",
       "\n",
       "    .dataframe thead th {\n",
       "        text-align: right;\n",
       "    }\n",
       "</style>\n",
       "<table border=\"1\" class=\"dataframe\">\n",
       "  <thead>\n",
       "    <tr style=\"text-align: right;\">\n",
       "      <th></th>\n",
       "      <th>id</th>\n",
       "      <th>win7</th>\n",
       "      <th>os</th>\n",
       "      <th>treat</th>\n",
       "      <th>demo</th>\n",
       "      <th>pre</th>\n",
       "      <th>y</th>\n",
       "      <th>demo2</th>\n",
       "      <th>treatn</th>\n",
       "      <th>yl</th>\n",
       "    </tr>\n",
       "  </thead>\n",
       "  <tbody>\n",
       "    <tr>\n",
       "      <th>0</th>\n",
       "      <td>0</td>\n",
       "      <td>0</td>\n",
       "      <td>win10</td>\n",
       "      <td>0</td>\n",
       "      <td>control-win10</td>\n",
       "      <td>1</td>\n",
       "      <td>74.245525</td>\n",
       "      <td>control-win10-pre</td>\n",
       "      <td>control</td>\n",
       "      <td>4.307378</td>\n",
       "    </tr>\n",
       "    <tr>\n",
       "      <th>1</th>\n",
       "      <td>0</td>\n",
       "      <td>0</td>\n",
       "      <td>win10</td>\n",
       "      <td>0</td>\n",
       "      <td>control-win10</td>\n",
       "      <td>0</td>\n",
       "      <td>85.986320</td>\n",
       "      <td>control-win10-post</td>\n",
       "      <td>control</td>\n",
       "      <td>4.454188</td>\n",
       "    </tr>\n",
       "    <tr>\n",
       "      <th>2</th>\n",
       "      <td>1</td>\n",
       "      <td>0</td>\n",
       "      <td>win10</td>\n",
       "      <td>0</td>\n",
       "      <td>control-win10</td>\n",
       "      <td>1</td>\n",
       "      <td>35.188365</td>\n",
       "      <td>control-win10-pre</td>\n",
       "      <td>control</td>\n",
       "      <td>3.560715</td>\n",
       "    </tr>\n",
       "  </tbody>\n",
       "</table>\n",
       "</div>"
      ],
      "text/plain": [
       "   id  win7     os  treat           demo  pre          y               demo2  \\\n",
       "0   0     0  win10      0  control-win10    1  74.245525   control-win10-pre   \n",
       "1   0     0  win10      0  control-win10    0  85.986320  control-win10-post   \n",
       "2   1     0  win10      0  control-win10    1  35.188365   control-win10-pre   \n",
       "\n",
       "    treatn        yl  \n",
       "0  control  4.307378  \n",
       "1  control  4.454188  \n",
       "2  control  3.560715  "
      ]
     },
     "execution_count": 47,
     "metadata": {},
     "output_type": "execute_result"
    }
   ],
   "source": [
    "data[:3]"
   ]
  },
  {
   "cell_type": "code",
   "execution_count": 48,
   "metadata": {},
   "outputs": [],
   "source": [
    "mod = Model(data.query(\"pre == 0\").copy())"
   ]
  },
  {
   "cell_type": "code",
   "execution_count": 49,
   "metadata": {},
   "outputs": [
    {
     "name": "stderr",
     "output_type": "stream",
     "text": [
      "Auto-assigning NUTS sampler...\n",
      "INFO:pymc3:Auto-assigning NUTS sampler...\n",
      "Initializing NUTS using jitter+adapt_diag...\n",
      "INFO:pymc3:Initializing NUTS using jitter+adapt_diag...\n",
      "Multiprocess sampling (4 chains in 2 jobs)\n",
      "INFO:pymc3:Multiprocess sampling (4 chains in 2 jobs)\n",
      "NUTS: [yl_sd, treat, Intercept]\n",
      "INFO:pymc3:NUTS: [yl_sd, treat, Intercept]\n"
     ]
    },
    {
     "data": {
      "text/html": [
       "\n",
       "    <div>\n",
       "        <style>\n",
       "            /* Turns off some styling */\n",
       "            progress {\n",
       "                /* gets rid of default border in Firefox and Opera. */\n",
       "                border: none;\n",
       "                /* Needs to be in here for Safari polyfill so background images work as expected. */\n",
       "                background-size: auto;\n",
       "            }\n",
       "            .progress-bar-interrupted, .progress-bar-interrupted::-webkit-progress-bar {\n",
       "                background: #F44336;\n",
       "            }\n",
       "        </style>\n",
       "      <progress value='8000' class='' max='8000' style='width:300px; height:20px; vertical-align: middle;'></progress>\n",
       "      100.00% [8000/8000 00:56<00:00 Sampling 4 chains, 5 divergences]\n",
       "    </div>\n",
       "    "
      ],
      "text/plain": [
       "<IPython.core.display.HTML object>"
      ]
     },
     "metadata": {},
     "output_type": "display_data"
    },
    {
     "name": "stderr",
     "output_type": "stream",
     "text": [
      "Sampling 4 chains for 1_000 tune and 1_000 draw iterations (4_000 + 4_000 draws total) took 59 seconds.\n",
      "INFO:pymc3:Sampling 4 chains for 1_000 tune and 1_000 draw iterations (4_000 + 4_000 draws total) took 59 seconds.\n",
      "There were 3 divergences after tuning. Increase `target_accept` or reparameterize.\n",
      "ERROR:pymc3:There were 3 divergences after tuning. Increase `target_accept` or reparameterize.\n",
      "There was 1 divergence after tuning. Increase `target_accept` or reparameterize.\n",
      "ERROR:pymc3:There was 1 divergence after tuning. Increase `target_accept` or reparameterize.\n",
      "There was 1 divergence after tuning. Increase `target_accept` or reparameterize.\n",
      "ERROR:pymc3:There was 1 divergence after tuning. Increase `target_accept` or reparameterize.\n",
      "/opt/conda/lib/python3.7/site-packages/arviz/data/io_pymc3.py:89: FutureWarning: Using `from_pymc3` without the model will be deprecated in a future release. Not using the model will return less accurate and less useful results. Make sure you use the model argument or call from_pymc3 within a model context.\n",
      "  FutureWarning,\n"
     ]
    }
   ],
   "source": [
    "fit = mod.fit(\"yl ~ treat\", samples=1000, chains=4, target_accept=.8)"
   ]
  },
  {
   "cell_type": "code",
   "execution_count": 51,
   "metadata": {},
   "outputs": [],
   "source": [
    "posterior_treatment = plot_wrap(fit.posterior.treat.values.ravel())"
   ]
  },
  {
   "cell_type": "code",
   "execution_count": 52,
   "metadata": {},
   "outputs": [],
   "source": [
    "post_plus_boot = vstack([\n",
    "    diffsl_.assign(g='bootstrapped_mean'),\n",
    "    posterior_treatment.assign(g='linear model posterior')\n",
    "])"
   ]
  },
  {
   "cell_type": "code",
   "execution_count": 54,
   "metadata": {},
   "outputs": [
    {
     "data": {
      "text/plain": [
       "-0.10536051565782628"
      ]
     },
     "execution_count": 54,
     "metadata": {},
     "output_type": "execute_result"
    }
   ],
   "source": []
  },
  {
   "cell_type": "code",
   "execution_count": 59,
   "metadata": {},
   "outputs": [
    {
     "data": {
      "image/png": "[encoded data removed]",
      "text/plain": [
       "<Figure size 432x288 with 1 Axes>"
      ]
     },
     "metadata": {
      "needs_background": "light"
     },
     "output_type": "display_data"
    }
   ],
   "source": [
    "plu.plot_groupby(post_plus_boot, 'g', 'y')\n",
    "yo, yi = plt.ylim()\n",
    "plt.vlines([TREAT_MU, TREAT_MU], yo, yi, linestyles='dashed');"
   ]
  },
  {
   "cell_type": "markdown",
   "metadata": {},
   "source": [
    "# Blocking"
   ]
  },
  {
   "cell_type": "code",
   "execution_count": 60,
   "metadata": {},
   "outputs": [
    {
     "data": {
      "text/html": [
       "<div>\n",
       "<style scoped>\n",
       "    .dataframe tbody tr th:only-of-type {\n",
       "        vertical-align: middle;\n",
       "    }\n",
       "\n",
       "    .dataframe tbody tr th {\n",
       "        vertical-align: top;\n",
       "    }\n",
       "\n",
       "    .dataframe thead th {\n",
       "        text-align: right;\n",
       "    }\n",
       "</style>\n",
       "<table border=\"1\" class=\"dataframe\">\n",
       "  <thead>\n",
       "    <tr style=\"text-align: right;\">\n",
       "      <th>treat</th>\n",
       "      <th>0</th>\n",
       "      <th>1</th>\n",
       "    </tr>\n",
       "    <tr>\n",
       "      <th>os</th>\n",
       "      <th></th>\n",
       "      <th></th>\n",
       "    </tr>\n",
       "  </thead>\n",
       "  <tbody>\n",
       "    <tr>\n",
       "      <th>win10</th>\n",
       "      <td>39.077695</td>\n",
       "      <td>35.76085</td>\n",
       "    </tr>\n",
       "    <tr>\n",
       "      <th>win7</th>\n",
       "      <td>133.560365</td>\n",
       "      <td>119.24392</td>\n",
       "    </tr>\n",
       "  </tbody>\n",
       "</table>\n",
       "</div>"
      ],
      "text/plain": [
       "treat           0          1\n",
       "os                          \n",
       "win10   39.077695   35.76085\n",
       "win7   133.560365  119.24392"
      ]
     },
     "execution_count": 60,
     "metadata": {},
     "output_type": "execute_result"
    }
   ],
   "source": [
    "df.groupby(['os', 'treat']).post.median().unstack()"
   ]
  },
  {
   "cell_type": "code",
   "execution_count": 61,
   "metadata": {},
   "outputs": [],
   "source": [
    "df_pre_post = df.assign(pre_l=lambda df: df.pre.pipe(np.log), post_l=lambda df: df.post.pipe(np.log))\n",
    "mod_block = Model(df_pre_post.copy())"
   ]
  },
  {
   "cell_type": "code",
   "execution_count": 62,
   "metadata": {},
   "outputs": [
    {
     "name": "stderr",
     "output_type": "stream",
     "text": [
      "Auto-assigning NUTS sampler...\n",
      "INFO:pymc3:Auto-assigning NUTS sampler...\n",
      "Initializing NUTS using jitter+adapt_diag...\n",
      "INFO:pymc3:Initializing NUTS using jitter+adapt_diag...\n",
      "Multiprocess sampling (4 chains in 2 jobs)\n",
      "INFO:pymc3:Multiprocess sampling (4 chains in 2 jobs)\n",
      "NUTS: [post_l_sd, win7, treat, pre_l, Intercept]\n",
      "INFO:pymc3:NUTS: [post_l_sd, win7, treat, pre_l, Intercept]\n"
     ]
    },
    {
     "data": {
      "text/html": [
       "\n",
       "    <div>\n",
       "        <style>\n",
       "            /* Turns off some styling */\n",
       "            progress {\n",
       "                /* gets rid of default border in Firefox and Opera. */\n",
       "                border: none;\n",
       "                /* Needs to be in here for Safari polyfill so background images work as expected. */\n",
       "                background-size: auto;\n",
       "            }\n",
       "            .progress-bar-interrupted, .progress-bar-interrupted::-webkit-progress-bar {\n",
       "                background: #F44336;\n",
       "            }\n",
       "        </style>\n",
       "      <progress value='8000' class='' max='8000' style='width:300px; height:20px; vertical-align: middle;'></progress>\n",
       "      100.00% [8000/8000 02:14<00:00 Sampling 4 chains, 0 divergences]\n",
       "    </div>\n",
       "    "
      ],
      "text/plain": [
       "<IPython.core.display.HTML object>"
      ]
     },
     "metadata": {},
     "output_type": "display_data"
    },
    {
     "name": "stderr",
     "output_type": "stream",
     "text": [
      "Sampling 4 chains for 1_000 tune and 1_000 draw iterations (4_000 + 4_000 draws total) took 135 seconds.\n",
      "INFO:pymc3:Sampling 4 chains for 1_000 tune and 1_000 draw iterations (4_000 + 4_000 draws total) took 135 seconds.\n",
      "/opt/conda/lib/python3.7/site-packages/arviz/data/io_pymc3.py:89: FutureWarning: Using `from_pymc3` without the model will be deprecated in a future release. Not using the model will return less accurate and less useful results. Make sure you use the model argument or call from_pymc3 within a model context.\n",
      "  FutureWarning,\n"
     ]
    }
   ],
   "source": [
    "fit_block = mod_block.fit(\"post_l ~ pre_l + treat + win7\", samples=1000, chains=4)"
   ]
  },
  {
   "cell_type": "code",
   "execution_count": 63,
   "metadata": {},
   "outputs": [],
   "source": [
    "posterior_treatment_block = plot_wrap(fit_block.posterior.treat.values.ravel())"
   ]
  },
  {
   "cell_type": "code",
   "execution_count": 68,
   "metadata": {},
   "outputs": [
    {
     "data": {
      "image/png": "[encoded data removed]",
      "text/plain": [
       "<Figure size 432x288 with 1 Axes>"
      ]
     },
     "metadata": {
      "needs_background": "light"
     },
     "output_type": "display_data"
    }
   ],
   "source": [
    "post_boot_block = vstack([\n",
    "    posterior_treatment.assign(g='2- linear model posterior'),\n",
    "    posterior_treatment_block.assign(g='3- linear model posterior-blocked'),\n",
    "    diffsl_.assign(g='1- bootstrapped_mean'),\n",
    "])\n",
    "\n",
    "plu.plot_groupby(post_boot_block, 'g', 'y', quants=[50, 95], label='_no_label_')\n",
    "yo, yi = plt.ylim()\n",
    "plt.vlines([TREAT_MU, TREAT_MU], yo, yi, linestyles='dashed', label='true effect')\n",
    "plt.legend();"
   ]
  },
  {
   "cell_type": "code",
   "execution_count": 37,
   "metadata": {},
   "outputs": [
    {
     "name": "stderr",
     "output_type": "stream",
     "text": [
      "INFO:numba.core.transforms:finding looplift candidates\n"
     ]
    },
    {
     "data": {
      "text/plain": [
       "array([<matplotlib.axes._subplots.AxesSubplot object at 0x7f93ec6e8810>],\n",
       "      dtype=object)"
      ]
     },
     "execution_count": 37,
     "metadata": {},
     "output_type": "execute_result"
    },
    {
     "data": {
      "image/png": "[encoded data removed]",
      "text/plain": [
       "<Figure size 432x295.2 with 1 Axes>"
      ]
     },
     "metadata": {
      "needs_background": "light"
     },
     "output_type": "display_data"
    }
   ],
   "source": [
    "# 'pre_l',  'win7'\n",
    "az.plot_forest(fit_block, var_names=['treat', ], combined=True)"
   ]
  },
  {
   "cell_type": "code",
   "execution_count": 209,
   "metadata": {},
   "outputs": [
    {
     "data": {
      "text/plain": [
       "0.6"
      ]
     },
     "execution_count": 209,
     "metadata": {},
     "output_type": "execute_result"
    }
   ],
   "source": [
    "TREAT_FACT"
   ]
  },
  {
   "cell_type": "code",
   "execution_count": 196,
   "metadata": {},
   "outputs": [
    {
     "data": {
      "text/html": [
       "<div>\n",
       "<style scoped>\n",
       "    .dataframe tbody tr th:only-of-type {\n",
       "        vertical-align: middle;\n",
       "    }\n",
       "\n",
       "    .dataframe tbody tr th {\n",
       "        vertical-align: top;\n",
       "    }\n",
       "\n",
       "    .dataframe thead th {\n",
       "        text-align: right;\n",
       "    }\n",
       "</style>\n",
       "<table border=\"1\" class=\"dataframe\">\n",
       "  <thead>\n",
       "    <tr style=\"text-align: right;\">\n",
       "      <th></th>\n",
       "      <th>mean</th>\n",
       "      <th>sd</th>\n",
       "      <th>hdi_3%</th>\n",
       "      <th>hdi_97%</th>\n",
       "      <th>mcse_mean</th>\n",
       "      <th>mcse_sd</th>\n",
       "      <th>ess_mean</th>\n",
       "      <th>ess_sd</th>\n",
       "      <th>ess_bulk</th>\n",
       "      <th>ess_tail</th>\n",
       "      <th>r_hat</th>\n",
       "    </tr>\n",
       "  </thead>\n",
       "  <tbody>\n",
       "    <tr>\n",
       "      <th>Intercept[0]</th>\n",
       "      <td>-0.013</td>\n",
       "      <td>0.021</td>\n",
       "      <td>-0.053</td>\n",
       "      <td>0.024</td>\n",
       "      <td>0.0</td>\n",
       "      <td>0.0</td>\n",
       "      <td>2388.0</td>\n",
       "      <td>2047.0</td>\n",
       "      <td>2391.0</td>\n",
       "      <td>2238.0</td>\n",
       "      <td>1.0</td>\n",
       "    </tr>\n",
       "    <tr>\n",
       "      <th>pre_l[0]</th>\n",
       "      <td>1.008</td>\n",
       "      <td>0.009</td>\n",
       "      <td>0.992</td>\n",
       "      <td>1.025</td>\n",
       "      <td>0.0</td>\n",
       "      <td>0.0</td>\n",
       "      <td>2584.0</td>\n",
       "      <td>2584.0</td>\n",
       "      <td>2590.0</td>\n",
       "      <td>2301.0</td>\n",
       "      <td>1.0</td>\n",
       "    </tr>\n",
       "    <tr>\n",
       "      <th>treat[0]</th>\n",
       "      <td>0.259</td>\n",
       "      <td>0.015</td>\n",
       "      <td>0.230</td>\n",
       "      <td>0.286</td>\n",
       "      <td>0.0</td>\n",
       "      <td>0.0</td>\n",
       "      <td>3062.0</td>\n",
       "      <td>3062.0</td>\n",
       "      <td>3071.0</td>\n",
       "      <td>2187.0</td>\n",
       "      <td>1.0</td>\n",
       "    </tr>\n",
       "    <tr>\n",
       "      <th>win7[0]</th>\n",
       "      <td>0.009</td>\n",
       "      <td>0.016</td>\n",
       "      <td>-0.018</td>\n",
       "      <td>0.040</td>\n",
       "      <td>0.0</td>\n",
       "      <td>0.0</td>\n",
       "      <td>3585.0</td>\n",
       "      <td>2304.0</td>\n",
       "      <td>3573.0</td>\n",
       "      <td>2752.0</td>\n",
       "      <td>1.0</td>\n",
       "    </tr>\n",
       "    <tr>\n",
       "      <th>post_l_sd</th>\n",
       "      <td>0.106</td>\n",
       "      <td>0.006</td>\n",
       "      <td>0.096</td>\n",
       "      <td>0.116</td>\n",
       "      <td>0.0</td>\n",
       "      <td>0.0</td>\n",
       "      <td>2839.0</td>\n",
       "      <td>2839.0</td>\n",
       "      <td>2810.0</td>\n",
       "      <td>1712.0</td>\n",
       "      <td>1.0</td>\n",
       "    </tr>\n",
       "  </tbody>\n",
       "</table>\n",
       "</div>"
      ],
      "text/plain": [
       "               mean     sd  hdi_3%  hdi_97%  mcse_mean  mcse_sd  ess_mean  \\\n",
       "Intercept[0] -0.013  0.021  -0.053    0.024        0.0      0.0    2388.0   \n",
       "pre_l[0]      1.008  0.009   0.992    1.025        0.0      0.0    2584.0   \n",
       "treat[0]      0.259  0.015   0.230    0.286        0.0      0.0    3062.0   \n",
       "win7[0]       0.009  0.016  -0.018    0.040        0.0      0.0    3585.0   \n",
       "post_l_sd     0.106  0.006   0.096    0.116        0.0      0.0    2839.0   \n",
       "\n",
       "              ess_sd  ess_bulk  ess_tail  r_hat  \n",
       "Intercept[0]  2047.0    2391.0    2238.0    1.0  \n",
       "pre_l[0]      2584.0    2590.0    2301.0    1.0  \n",
       "treat[0]      3062.0    3071.0    2187.0    1.0  \n",
       "win7[0]       2304.0    3573.0    2752.0    1.0  \n",
       "post_l_sd     2839.0    2810.0    1712.0    1.0  "
      ]
     },
     "execution_count": 196,
     "metadata": {},
     "output_type": "execute_result"
    }
   ],
   "source": [
    "az.summary(fit_block)"
   ]
  },
  {
   "cell_type": "code",
   "execution_count": 193,
   "metadata": {},
   "outputs": [
    {
     "data": {
      "text/html": [
       "<div>\n",
       "<style scoped>\n",
       "    .dataframe tbody tr th:only-of-type {\n",
       "        vertical-align: middle;\n",
       "    }\n",
       "\n",
       "    .dataframe tbody tr th {\n",
       "        vertical-align: top;\n",
       "    }\n",
       "\n",
       "    .dataframe thead th {\n",
       "        text-align: right;\n",
       "    }\n",
       "</style>\n",
       "<table border=\"1\" class=\"dataframe\">\n",
       "  <thead>\n",
       "    <tr style=\"text-align: right;\">\n",
       "      <th></th>\n",
       "      <th>id</th>\n",
       "      <th>win7</th>\n",
       "      <th>treat</th>\n",
       "      <th>pre</th>\n",
       "      <th>post</th>\n",
       "      <th>os</th>\n",
       "      <th>demo</th>\n",
       "      <th>pre_l</th>\n",
       "      <th>post_l</th>\n",
       "    </tr>\n",
       "  </thead>\n",
       "  <tbody>\n",
       "    <tr>\n",
       "      <th>0</th>\n",
       "      <td>0</td>\n",
       "      <td>0</td>\n",
       "      <td>0</td>\n",
       "      <td>94.687720</td>\n",
       "      <td>96.608654</td>\n",
       "      <td>win10</td>\n",
       "      <td>control-win10</td>\n",
       "      <td>1.976294</td>\n",
       "      <td>1.985016</td>\n",
       "    </tr>\n",
       "    <tr>\n",
       "      <th>1</th>\n",
       "      <td>1</td>\n",
       "      <td>0</td>\n",
       "      <td>0</td>\n",
       "      <td>6.234990</td>\n",
       "      <td>5.454784</td>\n",
       "      <td>win10</td>\n",
       "      <td>control-win10</td>\n",
       "      <td>0.794836</td>\n",
       "      <td>0.736778</td>\n",
       "    </tr>\n",
       "    <tr>\n",
       "      <th>2</th>\n",
       "      <td>2</td>\n",
       "      <td>0</td>\n",
       "      <td>0</td>\n",
       "      <td>4.155166</td>\n",
       "      <td>4.699156</td>\n",
       "      <td>win10</td>\n",
       "      <td>control-win10</td>\n",
       "      <td>0.618588</td>\n",
       "      <td>0.672020</td>\n",
       "    </tr>\n",
       "  </tbody>\n",
       "</table>\n",
       "</div>"
      ],
      "text/plain": [
       "   id  win7  treat        pre       post     os           demo     pre_l  \\\n",
       "0   0     0      0  94.687720  96.608654  win10  control-win10  1.976294   \n",
       "1   1     0      0   6.234990   5.454784  win10  control-win10  0.794836   \n",
       "2   2     0      0   4.155166   4.699156  win10  control-win10  0.618588   \n",
       "\n",
       "     post_l  \n",
       "0  1.985016  \n",
       "1  0.736778  \n",
       "2  0.672020  "
      ]
     },
     "execution_count": 193,
     "metadata": {},
     "output_type": "execute_result"
    }
   ],
   "source": [
    "df_pre_post[:3]"
   ]
  },
  {
   "cell_type": "code",
   "execution_count": 191,
   "metadata": {},
   "outputs": [
    {
     "data": {
      "text/html": [
       "<div>\n",
       "<style scoped>\n",
       "    .dataframe tbody tr th:only-of-type {\n",
       "        vertical-align: middle;\n",
       "    }\n",
       "\n",
       "    .dataframe tbody tr th {\n",
       "        vertical-align: top;\n",
       "    }\n",
       "\n",
       "    .dataframe thead th {\n",
       "        text-align: right;\n",
       "    }\n",
       "</style>\n",
       "<table border=\"1\" class=\"dataframe\">\n",
       "  <thead>\n",
       "    <tr style=\"text-align: right;\">\n",
       "      <th></th>\n",
       "      <th>id</th>\n",
       "      <th>win7</th>\n",
       "      <th>treat</th>\n",
       "      <th>pre</th>\n",
       "      <th>post</th>\n",
       "      <th>os</th>\n",
       "      <th>demo</th>\n",
       "      <th>pre_l</th>\n",
       "      <th>post_l</th>\n",
       "    </tr>\n",
       "  </thead>\n",
       "  <tbody>\n",
       "    <tr>\n",
       "      <th>0</th>\n",
       "      <td>0</td>\n",
       "      <td>0</td>\n",
       "      <td>0</td>\n",
       "      <td>94.687720</td>\n",
       "      <td>96.608654</td>\n",
       "      <td>win10</td>\n",
       "      <td>control-win10</td>\n",
       "      <td>1.976294</td>\n",
       "      <td>1.985016</td>\n",
       "    </tr>\n",
       "    <tr>\n",
       "      <th>1</th>\n",
       "      <td>1</td>\n",
       "      <td>0</td>\n",
       "      <td>0</td>\n",
       "      <td>6.234990</td>\n",
       "      <td>5.454784</td>\n",
       "      <td>win10</td>\n",
       "      <td>control-win10</td>\n",
       "      <td>0.794836</td>\n",
       "      <td>0.736778</td>\n",
       "    </tr>\n",
       "    <tr>\n",
       "      <th>2</th>\n",
       "      <td>2</td>\n",
       "      <td>0</td>\n",
       "      <td>0</td>\n",
       "      <td>4.155166</td>\n",
       "      <td>4.699156</td>\n",
       "      <td>win10</td>\n",
       "      <td>control-win10</td>\n",
       "      <td>0.618588</td>\n",
       "      <td>0.672020</td>\n",
       "    </tr>\n",
       "  </tbody>\n",
       "</table>\n",
       "</div>"
      ],
      "text/plain": [
       "   id  win7  treat        pre       post     os           demo     pre_l  \\\n",
       "0   0     0      0  94.687720  96.608654  win10  control-win10  1.976294   \n",
       "1   1     0      0   6.234990   5.454784  win10  control-win10  0.794836   \n",
       "2   2     0      0   4.155166   4.699156  win10  control-win10  0.618588   \n",
       "\n",
       "     post_l  \n",
       "0  1.985016  \n",
       "1  0.736778  \n",
       "2  0.672020  "
      ]
     },
     "execution_count": 191,
     "metadata": {},
     "output_type": "execute_result"
    }
   ],
   "source": [
    "df_pre_post[:3]"
   ]
  },
  {
   "cell_type": "code",
   "execution_count": 185,
   "metadata": {},
   "outputs": [
    {
     "data": {
      "text/html": [
       "<div>\n",
       "<style scoped>\n",
       "    .dataframe tbody tr th:only-of-type {\n",
       "        vertical-align: middle;\n",
       "    }\n",
       "\n",
       "    .dataframe tbody tr th {\n",
       "        vertical-align: top;\n",
       "    }\n",
       "\n",
       "    .dataframe thead th {\n",
       "        text-align: right;\n",
       "    }\n",
       "</style>\n",
       "<table border=\"1\" class=\"dataframe\">\n",
       "  <thead>\n",
       "    <tr style=\"text-align: right;\">\n",
       "      <th></th>\n",
       "      <th>id</th>\n",
       "      <th>win7</th>\n",
       "      <th>os</th>\n",
       "      <th>treat</th>\n",
       "      <th>demo</th>\n",
       "      <th>pre</th>\n",
       "      <th>y</th>\n",
       "      <th>demo2</th>\n",
       "      <th>yl</th>\n",
       "    </tr>\n",
       "  </thead>\n",
       "  <tbody>\n",
       "    <tr>\n",
       "      <th>0</th>\n",
       "      <td>0</td>\n",
       "      <td>0</td>\n",
       "      <td>win10</td>\n",
       "      <td>0</td>\n",
       "      <td>control-win10</td>\n",
       "      <td>1</td>\n",
       "      <td>94.687720</td>\n",
       "      <td>control-win10-pre</td>\n",
       "      <td>1.976294</td>\n",
       "    </tr>\n",
       "    <tr>\n",
       "      <th>1</th>\n",
       "      <td>0</td>\n",
       "      <td>0</td>\n",
       "      <td>win10</td>\n",
       "      <td>0</td>\n",
       "      <td>control-win10</td>\n",
       "      <td>0</td>\n",
       "      <td>96.608654</td>\n",
       "      <td>control-win10-post</td>\n",
       "      <td>1.985016</td>\n",
       "    </tr>\n",
       "    <tr>\n",
       "      <th>2</th>\n",
       "      <td>1</td>\n",
       "      <td>0</td>\n",
       "      <td>win10</td>\n",
       "      <td>0</td>\n",
       "      <td>control-win10</td>\n",
       "      <td>1</td>\n",
       "      <td>6.234990</td>\n",
       "      <td>control-win10-pre</td>\n",
       "      <td>0.794836</td>\n",
       "    </tr>\n",
       "  </tbody>\n",
       "</table>\n",
       "</div>"
      ],
      "text/plain": [
       "   id  win7     os  treat           demo  pre          y               demo2  \\\n",
       "0   0     0  win10      0  control-win10    1  94.687720   control-win10-pre   \n",
       "1   0     0  win10      0  control-win10    0  96.608654  control-win10-post   \n",
       "2   1     0  win10      0  control-win10    1   6.234990   control-win10-pre   \n",
       "\n",
       "         yl  \n",
       "0  1.976294  \n",
       "1  1.985016  \n",
       "2  0.794836  "
      ]
     },
     "execution_count": 185,
     "metadata": {},
     "output_type": "execute_result"
    }
   ],
   "source": [
    "data[:3]"
   ]
  },
  {
   "cell_type": "markdown",
   "metadata": {},
   "source": [
    "# Plots"
   ]
  },
  {
   "cell_type": "code",
   "execution_count": 85,
   "metadata": {},
   "outputs": [
    {
     "data": {
      "image/png": "[encoded data removed]",
      "text/plain": [
       "<Figure size 1152x360 with 2 Axes>"
      ]
     },
     "metadata": {
      "needs_background": "light"
     },
     "output_type": "display_data"
    }
   ],
   "source": [
    "import dscontrib.wbeard as wb\n",
    "axs, spi = wb.plot_utils.mk_sublots(nrows=1, ncols=2, figsize=(16, 5))\n",
    "\n",
    "spi.n\n",
    "df = create_test_pop(5000)\n",
    "plu.plot_groupby(df, 'os', 'pre')\n",
    "plt.xscale('log')\n",
    "\n",
    "spi.n\n",
    "df = create_test_pop(5000)\n",
    "plu.plot_groupby(df, 'os', 'pre')\n",
    "plt.xscale('log')"
   ]
  },
  {
   "cell_type": "code",
   "execution_count": 7,
   "metadata": {},
   "outputs": [],
   "source": [
    "def mk_bootstrap_df(bs_dct, n_reps=1_000):\n",
    "    dfs = [\n",
    "        pd.DataFrame({'y': bs.draw_replicates(n_reps)}).assign(g=k)\n",
    "        for k, bs in bs_dct.items()\n",
    "    ]\n",
    "    df = pd.concat(dfs)\n",
    "    return df\n",
    "\n",
    "means_ = {\n",
    "    k: wb.bootstrap.BootstrapStat(gdf.pre, stat=np.mean)\n",
    "    for k, gdf in df.groupby('os')\n",
    "}\n",
    "mean_draws = mk_bootstrap_df(means_, n_reps=10_000)"
   ]
  },
  {
   "cell_type": "code",
   "execution_count": 9,
   "metadata": {},
   "outputs": [
    {
     "data": {
      "image/png": "[encoded data removed]",
      "text/plain": [
       "<Figure size 432x288 with 1 Axes>"
      ]
     },
     "metadata": {
      "needs_background": "light"
     },
     "output_type": "display_data"
    }
   ],
   "source": [
    "plu.plot_groupby(mean_draws, 'g', 'y', quants=[50, 95])\n",
    "plt.xscale('log')"
   ]
  },
  {
   "cell_type": "code",
   "execution_count": 10,
   "metadata": {},
   "outputs": [
    {
     "data": {
      "text/html": [
       "<div>\n",
       "<style scoped>\n",
       "    .dataframe tbody tr th:only-of-type {\n",
       "        vertical-align: middle;\n",
       "    }\n",
       "\n",
       "    .dataframe tbody tr th {\n",
       "        vertical-align: top;\n",
       "    }\n",
       "\n",
       "    .dataframe thead th {\n",
       "        text-align: right;\n",
       "    }\n",
       "</style>\n",
       "<table border=\"1\" class=\"dataframe\">\n",
       "  <thead>\n",
       "    <tr style=\"text-align: right;\">\n",
       "      <th></th>\n",
       "      <th>win7</th>\n",
       "      <th>pre</th>\n",
       "      <th>post</th>\n",
       "      <th>os</th>\n",
       "    </tr>\n",
       "  </thead>\n",
       "  <tbody>\n",
       "    <tr>\n",
       "      <th>0</th>\n",
       "      <td>0</td>\n",
       "      <td>28.457386</td>\n",
       "      <td>35.924005</td>\n",
       "      <td>win10</td>\n",
       "    </tr>\n",
       "    <tr>\n",
       "      <th>1</th>\n",
       "      <td>0</td>\n",
       "      <td>92.697897</td>\n",
       "      <td>158.996297</td>\n",
       "      <td>win10</td>\n",
       "    </tr>\n",
       "    <tr>\n",
       "      <th>2</th>\n",
       "      <td>0</td>\n",
       "      <td>31.821052</td>\n",
       "      <td>57.778453</td>\n",
       "      <td>win10</td>\n",
       "    </tr>\n",
       "  </tbody>\n",
       "</table>\n",
       "</div>"
      ],
      "text/plain": [
       "   win7        pre        post     os\n",
       "0     0  28.457386   35.924005  win10\n",
       "1     0  92.697897  158.996297  win10\n",
       "2     0  31.821052   57.778453  win10"
      ]
     },
     "execution_count": 10,
     "metadata": {},
     "output_type": "execute_result"
    }
   ],
   "source": [
    "df[:3]"
   ]
  },
  {
   "cell_type": "code",
   "execution_count": 25,
   "metadata": {},
   "outputs": [
    {
     "data": {
      "image/png": "[encoded data removed]",
      "text/plain": [
       "<Figure size 432x288 with 1 Axes>"
      ]
     },
     "metadata": {
      "needs_background": "light"
     },
     "output_type": "display_data"
    }
   ],
   "source": [
    "\n",
    "df = create_test_pop(5000)\n",
    "\n",
    "plot_groupby(df.assign(os=lambda df: df.win7.map({0: 'win10', 1: 'win7'})), 'os', 'pre')\n",
    "\n",
    "plt.xscale('log')"
   ]
  },
  {
   "cell_type": "code",
   "execution_count": 37,
   "metadata": {},
   "outputs": [
    {
     "data": {
      "image/png": "[encoded data removed]",
      "text/plain": [
       "<Figure size 432x288 with 1 Axes>"
      ]
     },
     "metadata": {
      "needs_background": "light"
     },
     "output_type": "display_data"
    }
   ],
   "source": [
    "\n",
    "        \n",
    "plot_probs(sp)"
   ]
  },
  {
   "cell_type": "code",
   "execution_count": null,
   "metadata": {},
   "outputs": [],
   "source": []
  },
  {
   "cell_type": "code",
   "execution_count": 56,
   "metadata": {},
   "outputs": [
    {
     "data": {
      "text/html": [
       "<div>\n",
       "<style scoped>\n",
       "    .dataframe tbody tr th:only-of-type {\n",
       "        vertical-align: middle;\n",
       "    }\n",
       "\n",
       "    .dataframe tbody tr th {\n",
       "        vertical-align: top;\n",
       "    }\n",
       "\n",
       "    .dataframe thead tr th {\n",
       "        text-align: left;\n",
       "    }\n",
       "\n",
       "    .dataframe thead tr:last-of-type th {\n",
       "        text-align: right;\n",
       "    }\n",
       "</style>\n",
       "<table border=\"1\" class=\"dataframe\">\n",
       "  <thead>\n",
       "    <tr>\n",
       "      <th></th>\n",
       "      <th colspan=\"4\" halign=\"left\">pre</th>\n",
       "      <th colspan=\"4\" halign=\"left\">treat</th>\n",
       "    </tr>\n",
       "    <tr>\n",
       "      <th></th>\n",
       "      <th>0.025</th>\n",
       "      <th>0.250</th>\n",
       "      <th>0.750</th>\n",
       "      <th>0.975</th>\n",
       "      <th>0.025</th>\n",
       "      <th>0.250</th>\n",
       "      <th>0.750</th>\n",
       "      <th>0.975</th>\n",
       "    </tr>\n",
       "    <tr>\n",
       "      <th>win7</th>\n",
       "      <th></th>\n",
       "      <th></th>\n",
       "      <th></th>\n",
       "      <th></th>\n",
       "      <th></th>\n",
       "      <th></th>\n",
       "      <th></th>\n",
       "      <th></th>\n",
       "    </tr>\n",
       "  </thead>\n",
       "  <tbody>\n",
       "    <tr>\n",
       "      <th>0</th>\n",
       "      <td>1.291482</td>\n",
       "      <td>2.291133</td>\n",
       "      <td>4.832630</td>\n",
       "      <td>6.746378</td>\n",
       "      <td>2.187699</td>\n",
       "      <td>3.440991</td>\n",
       "      <td>6.001139</td>\n",
       "      <td>7.809183</td>\n",
       "    </tr>\n",
       "    <tr>\n",
       "      <th>1</th>\n",
       "      <td>1.893204</td>\n",
       "      <td>3.907341</td>\n",
       "      <td>6.753467</td>\n",
       "      <td>9.801736</td>\n",
       "      <td>2.651389</td>\n",
       "      <td>4.877444</td>\n",
       "      <td>8.005081</td>\n",
       "      <td>10.797514</td>\n",
       "    </tr>\n",
       "  </tbody>\n",
       "</table>\n",
       "</div>"
      ],
      "text/plain": [
       "           pre                                   treat                      \\\n",
       "         0.025     0.250     0.750     0.975     0.025     0.250     0.750   \n",
       "win7                                                                         \n",
       "0     1.291482  2.291133  4.832630  6.746378  2.187699  3.440991  6.001139   \n",
       "1     1.893204  3.907341  6.753467  9.801736  2.651389  4.877444  8.005081   \n",
       "\n",
       "                 \n",
       "          0.975  \n",
       "win7             \n",
       "0      7.809183  \n",
       "1     10.797514  "
      ]
     },
     "execution_count": 56,
     "metadata": {},
     "output_type": "execute_result"
    }
   ],
   "source": [
    "df.groupby(['win7'])[['pre', 'treat']].quantile([.025, .25, .75, .975]).unstack()\n",
    "# .T.unstack()"
   ]
  },
  {
   "cell_type": "code",
   "execution_count": 37,
   "metadata": {},
   "outputs": [
    {
     "data": {
      "text/plain": [
       "win7\n",
       "0    3.943179\n",
       "1    5.037273\n",
       "Name: pre, dtype: float64"
      ]
     },
     "execution_count": 37,
     "metadata": {},
     "output_type": "execute_result"
    }
   ],
   "source": [
    "df.groupby('win7').pre.mean()"
   ]
  },
  {
   "cell_type": "code",
   "execution_count": 25,
   "metadata": {},
   "outputs": [],
   "source": [
    "\n",
    "for win7, gdf in df.groupby('win7'):\n",
    "    1\n",
    "    \n",
    "del win7"
   ]
  },
  {
   "cell_type": "code",
   "execution_count": 26,
   "metadata": {},
   "outputs": [],
   "source": [
    "win7_factor = 1.2"
   ]
  },
  {
   "cell_type": "code",
   "execution_count": 33,
   "metadata": {},
   "outputs": [
    {
     "data": {
      "text/plain": [
       "0      2.478191\n",
       "1      5.925980\n",
       "2      3.496899\n",
       "3      2.763261\n",
       "4      4.099979\n",
       "         ...   \n",
       "195    6.584048\n",
       "196    4.732905\n",
       "197    8.471105\n",
       "198    5.075637\n",
       "199    6.515102\n",
       "Name: win7, Length: 200, dtype: float64"
      ]
     },
     "execution_count": 33,
     "metadata": {},
     "output_type": "execute_result"
    }
   ],
   "source": [
    "\n",
    "\n"
   ]
  },
  {
   "cell_type": "code",
   "execution_count": 10,
   "metadata": {},
   "outputs": [
    {
     "data": {
      "text/plain": [
       "[<matplotlib.lines.Line2D at 0x7fcf84ca6050>]"
      ]
     },
     "execution_count": 10,
     "metadata": {},
     "output_type": "execute_result"
    },
    {
     "data": {
      "image/png": "[encoded data removed]",
      "text/plain": [
       "<Figure size 432x288 with 1 Axes>"
      ]
     },
     "metadata": {
      "needs_background": "light"
     },
     "output_type": "display_data"
    }
   ],
   "source": [
    "plt.plot(10 ** xs, ys)"
   ]
  },
  {
   "cell_type": "markdown",
   "metadata": {},
   "source": [
    "# Junk"
   ]
  },
  {
   "cell_type": "code",
   "execution_count": null,
   "metadata": {},
   "outputs": [],
   "source": [
    "def gen_times(win7):\n",
    "    times = st.gamma(4 + win7_factor * win7).rvs(len(gdf))\n",
    "    return times\n",
    "\n",
    "def gen_times_shape(gshape):\n",
    "    times = st.gamma(gshape).rvs(len(gdf))\n",
    "    return times"
   ]
  },
  {
   "cell_type": "code",
   "execution_count": null,
   "metadata": {},
   "outputs": [],
   "source": [
    "\n",
    "\n",
    "def gamma_shape(win7):\n",
    "    return 4 + win7_factor * win7\n",
    "    \n",
    "def add_columns(df):\n",
    "    df['gshape'] = gamma_shape(df.win7)\n",
    "#     df['pre'] = df.groupby('win7').win7.transform(gen_times)\n",
    "    df['pre'] = df.groupby('win7').gshape.transform(gen_times_shape)\n",
    "    df['treat'] = df['pre'] + nr.randn(len(df)) * .25 + 1\n",
    "    return df\n",
    "\n",
    "df = pd.DataFrame(data_dct)\n",
    "df = df.pipe(add_columns)\n",
    "df.drop_duplicates()"
   ]
  }
 ],
 "metadata": {
  "kernelspec": {
   "display_name": "Python 3",
   "language": "python",
   "name": "python3"
  },
  "language_info": {
   "codemirror_mode": {
    "name": "ipython",
    "version": 3
   },
   "file_extension": ".py",
   "mimetype": "text/x-python",
   "name": "python",
   "nbconvert_exporter": "python",
   "pygments_lexer": "ipython3",
   "version": "3.7.8"
  }
 },
 "nbformat": 4,
 "nbformat_minor": 4
}
