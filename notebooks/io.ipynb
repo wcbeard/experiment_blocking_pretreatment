{
 "cells": [
  {
   "cell_type": "markdown",
   "metadata": {
    "deletable": true,
    "editable": true,
    "toc": "true"
   },
   "source": [
    " # Table of Contents\n",
    "<div class=\"toc\" style=\"margin-top: 1em;\"><ul class=\"toc-item\" id=\"toc-level0\"><ul class=\"toc-item\"><li><span><a href=\"http://localhost:8888/notebooks/notebooks/io.ipynb#Import\" data-toc-modified-id=\"Import-0.1\"><span class=\"toc-item-num\">0.1&nbsp;&nbsp;</span>Import</a></span><ul class=\"toc-item\"><li><span><a href=\"http://localhost:8888/notebooks/notebooks/io.ipynb#Common\" data-toc-modified-id=\"Common-0.1.1\"><span class=\"toc-item-num\">0.1.1&nbsp;&nbsp;</span>Common</a></span></li><li><span><a href=\"http://localhost:8888/notebooks/notebooks/io.ipynb#Libs\" data-toc-modified-id=\"Libs-0.1.2\"><span class=\"toc-item-num\">0.1.2&nbsp;&nbsp;</span>Libs</a></span></li><li><span><a href=\"http://localhost:8888/notebooks/notebooks/io.ipynb#Special\" data-toc-modified-id=\"Special-0.1.3\"><span class=\"toc-item-num\">0.1.3&nbsp;&nbsp;</span>Special</a></span></li></ul></li><li><span><a href=\"http://localhost:8888/notebooks/notebooks/io.ipynb#Load-longitudinal-retention\" data-toc-modified-id=\"Load-longitudinal-retention-0.2\"><span class=\"toc-item-num\">0.2&nbsp;&nbsp;</span>Load longitudinal retention</a></span><ul class=\"toc-item\"><li><span><a href=\"http://localhost:8888/notebooks/notebooks/io.ipynb#Move\" data-toc-modified-id=\"Move-0.2.1\"><span class=\"toc-item-num\">0.2.1&nbsp;&nbsp;</span>Move</a></span></li><li><span><a href=\"http://localhost:8888/notebooks/notebooks/io.ipynb#Convert\" data-toc-modified-id=\"Convert-0.2.2\"><span class=\"toc-item-num\">0.2.2&nbsp;&nbsp;</span>Convert</a></span></li></ul></li><li><span><a href=\"http://localhost:8888/notebooks/notebooks/io.ipynb#Load-longitudinal-seq=1\" data-toc-modified-id=\"Load-longitudinal-seq=1-0.3\"><span class=\"toc-item-num\">0.3&nbsp;&nbsp;</span>Load longitudinal seq=1</a></span><ul class=\"toc-item\"><li><span><a href=\"http://localhost:8888/notebooks/notebooks/io.ipynb#Convert-to-parq\" data-toc-modified-id=\"Convert-to-parq-0.3.1\"><span class=\"toc-item-num\">0.3.1&nbsp;&nbsp;</span>Convert to parq</a></span></li></ul></li><li><span><a href=\"http://localhost:8888/notebooks/notebooks/io.ipynb#Load-longitudinal-seq=2\" data-toc-modified-id=\"Load-longitudinal-seq=2-0.4\"><span class=\"toc-item-num\">0.4&nbsp;&nbsp;</span>Load longitudinal seq=2</a></span><ul class=\"toc-item\"><li><span><a href=\"http://localhost:8888/notebooks/notebooks/io.ipynb#Move-raw\" data-toc-modified-id=\"Move-raw-0.4.1\"><span class=\"toc-item-num\">0.4.1&nbsp;&nbsp;</span>Move raw</a></span></li><li><span><a href=\"http://localhost:8888/notebooks/notebooks/io.ipynb#Convert-to-parq\" data-toc-modified-id=\"Convert-to-parq-0.4.2\"><span class=\"toc-item-num\">0.4.2&nbsp;&nbsp;</span>Convert to parq</a></span><ul class=\"toc-item\"><li><span><a href=\"http://localhost:8888/notebooks/notebooks/io.ipynb#debug\" data-toc-modified-id=\"debug-0.4.2.1\"><span class=\"toc-item-num\">0.4.2.1&nbsp;&nbsp;</span>debug</a></span></li><li><span><a href=\"http://localhost:8888/notebooks/notebooks/io.ipynb#debug-end\" data-toc-modified-id=\"debug-end-0.4.2.2\"><span class=\"toc-item-num\">0.4.2.2&nbsp;&nbsp;</span>debug end</a></span></li></ul></li></ul></li><li><span><a href=\"http://localhost:8888/notebooks/notebooks/io.ipynb#Load-Onboarding-A/B\" data-toc-modified-id=\"Load-Onboarding-A/B-0.5\"><span class=\"toc-item-num\">0.5&nbsp;&nbsp;</span>Load Onboarding A/B</a></span></li><li><span><a href=\"http://localhost:8888/notebooks/notebooks/io.ipynb#OOM\" data-toc-modified-id=\"OOM-0.6\"><span class=\"toc-item-num\">0.6&nbsp;&nbsp;</span>OOM</a></span></li></ul></ul></div>"
   ]
  },
  {
   "cell_type": "markdown",
   "metadata": {
    "deletable": true,
    "editable": true
   },
   "source": [
    "## Import"
   ]
  },
  {
   "cell_type": "markdown",
   "metadata": {
    "deletable": true,
    "editable": true,
    "heading_collapsed": true
   },
   "source": [
    "### Common"
   ]
  },
  {
   "cell_type": "code",
   "execution_count": 9,
   "metadata": {
    "ExecuteTime": {
     "end_time": "2018-02-22T19:21:11.541454Z",
     "start_time": "2018-02-22T19:21:11.440968Z"
    },
    "collapsed": false,
    "deletable": true,
    "editable": true,
    "hidden": true
   },
   "outputs": [
    {
     "data": {
      "text/plain": [
       "9"
      ]
     },
     "execution_count": 9,
     "metadata": {},
     "output_type": "execute_result"
    }
   ],
   "source": [
    "import boot_utes as bu; bu.reload(bu); from boot_utes import (reload, add_path, path)\n",
    "add_path('../src/', '~/repos/myutils/')"
   ]
  },
  {
   "cell_type": "code",
   "execution_count": 10,
   "metadata": {
    "ExecuteTime": {
     "end_time": "2018-02-22T19:21:11.582796Z",
     "start_time": "2018-02-22T19:21:11.546986Z"
    },
    "collapsed": false,
    "deletable": true,
    "editable": true,
    "hidden": true
   },
   "outputs": [],
   "source": [
    "from collections import defaultdict, Counter, OrderedDict\n",
    "from functools import partial\n",
    "from itertools import count\n",
    "from operator import itemgetter as itg\n",
    "from pprint import pprint\n",
    "import os, sys, itertools as it, simplejson, time\n",
    "from os.path import join\n",
    "from glob import glob"
   ]
  },
  {
   "cell_type": "markdown",
   "metadata": {
    "deletable": true,
    "editable": true,
    "heading_collapsed": true
   },
   "source": [
    "### Libs"
   ]
  },
  {
   "cell_type": "code",
   "execution_count": 11,
   "metadata": {
    "ExecuteTime": {
     "end_time": "2018-02-22T19:21:11.871552Z",
     "start_time": "2018-02-22T19:21:11.586060Z"
    },
    "collapsed": false,
    "deletable": true,
    "editable": true,
    "hidden": true
   },
   "outputs": [],
   "source": [
    "# from gensim.models import Word2Vec\n",
    "\n",
    "import feather\n",
    "import numpy as np\n",
    "import numpy.random as nr\n",
    "import pandas as pd\n",
    "from pandas import DataFrame, Series\n",
    "from pandas.compat import lmap, lrange, lfilter, lzip\n",
    "\n",
    "import toolz.curried as z\n",
    "\n",
    "import matplotlib.pyplot as plt\n",
    "import seaborn as sns\n",
    "%matplotlib inline\n",
    "pd.options.mode.use_inf_as_na = True\n",
    "\n",
    "# %mkdir cache\n",
    "import joblib; mem = joblib.Memory(location='cache')\n",
    "dbx = '/Users/wbeard/miniconda3/envs/tmpdecomp2/bin/databricks'"
   ]
  },
  {
   "cell_type": "code",
   "execution_count": null,
   "metadata": {},
   "outputs": [],
   "source": []
  },
  {
   "cell_type": "code",
   "execution_count": 12,
   "metadata": {
    "ExecuteTime": {
     "end_time": "2018-02-22T19:21:11.880677Z",
     "start_time": "2018-02-22T19:21:11.875390Z"
    },
    "collapsed": true,
    "deletable": true,
    "editable": true,
    "hidden": true
   },
   "outputs": [],
   "source": [
    "def norm_rows(df):\n",
    "    return df.div(df.sum(axis=1), axis=0)"
   ]
  },
  {
   "cell_type": "code",
   "execution_count": 13,
   "metadata": {},
   "outputs": [],
   "source": [
    "from os.path import join\n",
    "import re\n",
    "\n",
    "def get_spk_parq_fn(dir, ext='parquet'):\n",
    "    s3parq_fs = !aws s3 ls $dir/\n",
    "#     print(dir)\n",
    "#     print(s3parq_fs)\n",
    "    spk_parq_re = re.compile(r'part.+?\\.{}'.format(ext))\n",
    "    fn_all = spk_parq_re.findall(s3parq_fs[-1])\n",
    "    if not len(fn_all) == 1:\n",
    "        print('Uh oh: fn_all=', fn_all)\n",
    "    [fn] = fn_all\n",
    "    return fn\n",
    "\n",
    "def show_s3_opts(*dir_elems):\n",
    "    dir = join(*dir_elems)\n",
    "    if not dir.endswith('/'):\n",
    "        dir += '/'\n",
    "    res = !aws s3 ls $dir\n",
    "    return res\n",
    "    \n",
    "def mv_s3_pq(from_dir='', to_dir='data/pings', fn='pings_0125.parq', s3base=None, ext='parquet'):\n",
    "    s3base = s3base or 's3://mozilla-databricks-telemetry-test/wbeard/'\n",
    "    s3dir = join(s3base, from_dir, fn)\n",
    "    \n",
    "    try:\n",
    "        pqn_ = get_spk_parq_fn(s3dir, ext=ext)\n",
    "        print('Found pq file', pqn_)\n",
    "    except IndexError:\n",
    "        print('ERROR: File {} not found'.format(s3dir))\n",
    "        opts = show_s3_opts(s3base, from_dir)\n",
    "        print('\\nPossible options:\\n\\t', '\\n\\t'.join(opts))\n",
    "        return\n",
    "        \n",
    "    \n",
    "    s3loc = join(s3base, from_dir, fn, pqn_)\n",
    "    to_loc = join(to_dir, fn)\n",
    "    \n",
    "    \n",
    "#     print(s3loc)\n",
    "#     print(to_loc)\n",
    "    !aws s3 cp $s3loc $to_loc\n",
    "    return to_loc\n",
    "    \n"
   ]
  },
  {
   "cell_type": "markdown",
   "metadata": {
    "deletable": true,
    "editable": true
   },
   "source": [
    "### Special"
   ]
  },
  {
   "cell_type": "code",
   "execution_count": 5,
   "metadata": {
    "ExecuteTime": {
     "end_time": "2018-02-22T19:21:12.086372Z",
     "start_time": "2018-02-22T19:21:11.883566Z"
    },
    "collapsed": false,
    "deletable": true,
    "editable": true
   },
   "outputs": [
    {
     "ename": "NameError",
     "evalue": "name 'mt' is not defined",
     "output_type": "error",
     "traceback": [
      "\u001b[1;31m---------------------------------------------------------------------------\u001b[0m",
      "\u001b[1;31mNameError\u001b[0m                                 Traceback (most recent call last)",
      "\u001b[1;32m<ipython-input-5-bc1765c6d26a>\u001b[0m in \u001b[0;36m<module>\u001b[1;34m()\u001b[0m\n\u001b[0;32m      8\u001b[0m \u001b[1;32mimport\u001b[0m \u001b[0mnumba_utils\u001b[0m \u001b[1;32mas\u001b[0m \u001b[0mnu\u001b[0m\u001b[1;33m;\u001b[0m \u001b[0mreload\u001b[0m\u001b[1;33m(\u001b[0m\u001b[0mnu\u001b[0m\u001b[1;33m)\u001b[0m\u001b[1;33m\u001b[0m\u001b[0m\n\u001b[0;32m      9\u001b[0m \u001b[1;33m\u001b[0m\u001b[0m\n\u001b[1;32m---> 10\u001b[1;33m \u001b[0mmt\u001b[0m\u001b[1;33m.\u001b[0m\u001b[0mset_mem\u001b[0m\u001b[1;33m(\u001b[0m\u001b[0mmem\u001b[0m\u001b[1;33m=\u001b[0m\u001b[0mmem\u001b[0m\u001b[1;33m,\u001b[0m \u001b[0mjson\u001b[0m\u001b[1;33m=\u001b[0m\u001b[0msimplejson\u001b[0m\u001b[1;33m)\u001b[0m\u001b[1;33m\u001b[0m\u001b[0m\n\u001b[0m\u001b[0;32m     11\u001b[0m \u001b[0msu\u001b[0m\u001b[1;33m.\u001b[0m\u001b[0mset_memo\u001b[0m\u001b[1;33m(\u001b[0m\u001b[0mmemoizer\u001b[0m\u001b[1;33m=\u001b[0m\u001b[0mmt\u001b[0m\u001b[1;33m.\u001b[0m\u001b[0mjson_memo\u001b[0m\u001b[1;33m(\u001b[0m\u001b[1;33m)\u001b[0m\u001b[1;33m)\u001b[0m\u001b[1;33m\u001b[0m\u001b[0m\n\u001b[0;32m     12\u001b[0m \u001b[1;33m(\u001b[0m\u001b[1;34m\";\"\u001b[0m\u001b[1;33m)\u001b[0m\u001b[1;33m\u001b[0m\u001b[0m\n",
      "\u001b[1;31mNameError\u001b[0m: name 'mt' is not defined"
     ]
    }
   ],
   "source": [
    "# import utils.seq_utils as su; reload(su)\n",
    "# import utils.events_utils as eu; reload(eu)\n",
    "# import utils.feather_counter as fc; reload(fc)\n",
    "# import utils.mutes as mt; reload(mt)\n",
    "\n",
    "import myutils as mu\n",
    "import functoolz as fz; reload(fz)\n",
    "import numba_utils as nu; reload(nu)\n",
    "\n",
    "mt.set_mem(mem=mem, json=simplejson)\n",
    "su.set_memo(memoizer=mt.json_memo())\n",
    ";;"
   ]
  },
  {
   "cell_type": "code",
   "execution_count": 9,
   "metadata": {
    "ExecuteTime": {
     "end_time": "2018-02-22T19:21:12.120001Z",
     "start_time": "2018-02-22T19:21:12.088507Z"
    },
    "collapsed": true,
    "deletable": true,
    "editable": true
   },
   "outputs": [],
   "source": [
    "def move_new(dbx_dir, outdir=None, outdir_base='../data/raw/'):\n",
    "    full_dbx_dir = join(\"dbfs:/wbeard/\", dbx_dir)\n",
    "    outdir = join(outdir_base, dbx_dir) if outdir is None else outdir\n",
    "    dbx_fs = !$dbx fs ls $full_dbx_dir\n",
    "    written = os.listdir(outdir)\n",
    "    tobewritten = [f for f in dbx_fs if f not in written]\n",
    "    for f in tobewritten:\n",
    "        dbx_fn = join(full_dbx_dir, f)\n",
    "        print('{} => {}'.format(dbx_fn, outdir))\n",
    "        !$dbx fs cp $dbx_fn $outdir\n",
    "    return tobewritten, written\n",
    "    \n",
    "\n",
    "def keep_moving(dbx_dir, outdir=None, outdir_base='../data/raw/', maxn=5):\n",
    "    while 1:\n",
    "        time.sleep(3)\n",
    "        tobewritten, written = move_new(dbx_dir, outdir=outdir,\n",
    "                                        outdir_base=outdir_base)\n",
    "\n",
    "        if maxn and (len(tobewritten) + len(written) >= maxn):\n",
    "            return\n",
    "        print('.', end='')\n",
    "        \n",
    "        \n",
    "vc = lambda x: Series(x).value_counts(normalize=0).sort_index()\n"
   ]
  },
  {
   "cell_type": "code",
   "execution_count": 12,
   "metadata": {},
   "outputs": [
    {
     "name": "stdout",
     "output_type": "stream",
     "text": [
      "download: s3://mozilla-databricks-telemetry-test/wbeard/crash_pings/p_20180126_20180128_eq_42.parq/_SUCCESS to data/p26_8/_SUCCESS\n",
      "download: s3://mozilla-databricks-telemetry-test/wbeard/crash_pings/p_20180126_20180128_eq_42.parq/_committed_6840194297520358502 to data/p26_8/_committed_6840194297520358502\n",
      "download: s3://mozilla-databricks-telemetry-test/wbeard/crash_pings/p_20180126_20180128_eq_42.parq/_started_6840194297520358502 to data/p26_8/_started_6840194297520358502\n",
      "download: s3://mozilla-databricks-telemetry-test/wbeard/crash_pings/p_20180126_20180128_eq_42.parq/part-00002-tid-6840194297520358502-d54968ad-db37-4285-8f8c-e2e58808f762-0-c000.snappy.parquet to data/p26_8/part-00002-tid-6840194297520358502-d54968ad-db37-4285-8f8c-e2e58808f762-0-c000.snappy.parquet\n",
      "download: s3://mozilla-databricks-telemetry-test/wbeard/crash_pings/p_20180126_20180128_eq_42.parq/part-00000-tid-6840194297520358502-d54968ad-db37-4285-8f8c-e2e58808f762-0-c000.snappy.parquet to data/p26_8/part-00000-tid-6840194297520358502-d54968ad-db37-4285-8f8c-e2e58808f762-0-c000.snappy.parquet\n",
      "download: s3://mozilla-databricks-telemetry-test/wbeard/crash_pings/p_20180126_20180128_eq_42.parq/part-00001-tid-6840194297520358502-d54968ad-db37-4285-8f8c-e2e58808f762-0-c000.snappy.parquet to data/p26_8/part-00001-tid-6840194297520358502-d54968ad-db37-4285-8f8c-e2e58808f762-0-c000.snappy.parquet\n"
     ]
    }
   ],
   "source": [
    "!aws s3 sync 's3://mozilla-databricks-telemetry-test/wbeard/crash_pings/p_201801' data/p29_0202"
   ]
  },
  {
   "cell_type": "markdown",
   "metadata": {},
   "source": [
    "## Win_proc"
   ]
  },
  {
   "cell_type": "code",
   "execution_count": 14,
   "metadata": {},
   "outputs": [
    {
     "name": "stdout",
     "output_type": "stream",
     "text": [
      "till_0204.pq\n"
     ]
    }
   ],
   "source": [
    "ls ../../win_proc/data/raw/"
   ]
  },
  {
   "cell_type": "code",
   "execution_count": 15,
   "metadata": {},
   "outputs": [],
   "source": [
    "local_dir = '../../win_proc/data/raw/'\n",
    "base = 's3://net-mozaws-prod-us-west-2-pipeline-analysis/wbeard/wl/'"
   ]
  },
  {
   "cell_type": "code",
   "execution_count": 16,
   "metadata": {},
   "outputs": [
    {
     "name": "stdout",
     "output_type": "stream",
     "text": [
      "Found pq file part-00000-tid-6114354128941207063-a497a401-5843-4966-9646-3d2d6bae1b20-2389165-c000.snappy.parquet\n",
      "download: s3://net-mozaws-prod-us-west-2-pipeline-analysis/wbeard/wl/till_0207.pq/part-00000-tid-6114354128941207063-a497a401-5843-4966-9646-3d2d6bae1b20-2389165-c000.snappy.parquet to ../data/raw/till_0207.pq\n"
     ]
    },
    {
     "data": {
      "text/plain": [
       "'../../win_proc/data/raw/till_0207.pq'"
      ]
     },
     "execution_count": 16,
     "metadata": {},
     "output_type": "execute_result"
    }
   ],
   "source": [
    "# base = 'dbfs:/wbeard/apb/'\n",
    "pqdir = 'till_0207.pq'\n",
    "# pqdir = 'abc'\n",
    "\n",
    "# , ext='json'\n",
    "mv_s3_pq(from_dir='', to_dir=local_dir, fn=pqdir, s3base=base)"
   ]
  },
  {
   "cell_type": "code",
   "execution_count": 24,
   "metadata": {},
   "outputs": [
    {
     "name": "stdout",
     "output_type": "stream",
     "text": [
      "s3://net-mozaws-prod-us-west-2-pipeline-analysis/wbeard/ipc/samp.json\n",
      "fatal error: An error occurred (404) when calling the HeadObject operation: Key \"wbeard/ipc/samp.json\" does not exist\n"
     ]
    }
   ],
   "source": [
    "json_file = join(base, pqdir)\n",
    "print(json_file)\n",
    "!aws s3 cp \"$json_file\" \"$local_dir\""
   ]
  },
  {
   "cell_type": "code",
   "execution_count": 27,
   "metadata": {},
   "outputs": [
    {
     "name": "stdout",
     "output_type": "stream",
     "text": [
      "2018-11-28 12:23:24          0 _SUCCESS\n",
      "2018-11-28 12:23:24        117 _committed_3179433506591924477\n",
      "2018-11-28 12:23:23          0 _started_3179433506591924477\n",
      "2018-11-28 12:23:24      51818 part-00000-tid-3179433506591924477-7c90a292-abf3-44e3-98b3-7213773c5a1d-10458612-c000.json\n"
     ]
    }
   ],
   "source": [
    "!aws s3 ls \"$json_file/\""
   ]
  },
  {
   "cell_type": "raw",
   "metadata": {},
   "source": [
    "_fns = !$dbx fs ls 'dbfs:/wbeard/ipc/'\n",
    "_fns = [f for f in _fns if not path.exists(join(local_dir, f))]\n",
    "print(_fns)"
   ]
  },
  {
   "cell_type": "raw",
   "metadata": {},
   "source": [
    "!$dbx fs cp \"dbfs:/wbeard/apb/cid_ret_1122.pq\" $local_dir"
   ]
  },
  {
   "cell_type": "raw",
   "metadata": {},
   "source": [
    "# _fns = 'r23-25_counts.json r23-25_prompt.json r23-25_settings.json'.split()\n",
    "for _fn in _fns:\n",
    "    fn = join('dbfs:/wbeard/apb/day', _fn)\n",
    "    print(fn)\n",
    "    !$dbx fs cp $fn $local_dir"
   ]
  },
  {
   "cell_type": "code",
   "execution_count": null,
   "metadata": {},
   "outputs": [],
   "source": [
    "\n",
    "\n",
    "\n",
    "\n"
   ]
  }
 ],
 "metadata": {
  "jupytext": {
   "formats": "ipynb,py"
  },
  "kernelspec": {
   "display_name": "Python 3",
   "language": "python",
   "name": "python3"
  },
  "language_info": {
   "codemirror_mode": {
    "name": "ipython",
    "version": 3
   },
   "file_extension": ".py",
   "mimetype": "text/x-python",
   "name": "python",
   "nbconvert_exporter": "python",
   "pygments_lexer": "ipython3",
   "version": "3.7.1"
  },
  "toc": {
   "nav_menu": {},
   "number_sections": true,
   "sideBar": true,
   "skip_h1_title": false,
   "toc_cell": true,
   "toc_position": {},
   "toc_section_display": "block",
   "toc_window_display": false
  }
 },
 "nbformat": 4,
 "nbformat_minor": 2
}
